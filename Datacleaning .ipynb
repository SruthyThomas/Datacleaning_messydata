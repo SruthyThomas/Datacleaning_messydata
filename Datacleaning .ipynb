{
 "cells": [
  {
   "cell_type": "markdown",
   "metadata": {
    "id": "cVKhtRJCcLaU"
   },
   "source": [
    "<h1 align=\"center\"><B>DATA CLEANING</B></h1>"
   ]
  },
  {
   "cell_type": "markdown",
   "metadata": {
    "id": "lSjG3-SXLx12"
   },
   "source": [
    "**Problem Statement:**\n",
    "\n",
    "  The provided dataset contains inconsistencies, errors, missing values, and duplicates, making it unsuitable for analysis in its current state. My task is to systematically clean and preprocess this dataset to ensure its accuracy, completeness, and reliability.\n"
   ]
  },
  {
   "cell_type": "markdown",
   "metadata": {
    "id": "HLUG1fYuB_4m"
   },
   "source": [
    "**Aim:**\n",
    "\n",
    "  The aim of this assignment is to systematically clean and preprocess the given messy dataset to ensure its suitability for further analysis. This involves identifying and rectifying inconsistencies, handling missing values, removing duplicates, correcting errors, and standardizing data formats. By the end of this task, the dataset will be transformed into a clean, reliable, and structured format, ready for accurate and meaningful analysis."
   ]
  },
  {
   "cell_type": "code",
   "execution_count": 1,
   "metadata": {
    "id": "8gxdulBJcNxF"
   },
   "outputs": [],
   "source": [
    "#Import Necessary Libraries\n",
    "import pandas as pd\n",
    "import re\n",
    "import warnings\n",
    "\n",
    "# Suppress warnings\n",
    "warnings.filterwarnings('ignore')"
   ]
  },
  {
   "cell_type": "code",
   "execution_count": 2,
   "metadata": {
    "colab": {
     "base_uri": "https://localhost:8080/",
     "height": 788
    },
    "id": "GZK30fyPcUKQ",
    "outputId": "76d20f02-e84a-483b-fb59-9a51369bf9f4"
   },
   "outputs": [
    {
     "data": {
      "text/html": [
       "<div>\n",
       "<style scoped>\n",
       "    .dataframe tbody tr th:only-of-type {\n",
       "        vertical-align: middle;\n",
       "    }\n",
       "\n",
       "    .dataframe tbody tr th {\n",
       "        vertical-align: top;\n",
       "    }\n",
       "\n",
       "    .dataframe thead th {\n",
       "        text-align: right;\n",
       "    }\n",
       "</style>\n",
       "<table border=\"1\" class=\"dataframe\">\n",
       "  <thead>\n",
       "    <tr style=\"text-align: right;\">\n",
       "      <th></th>\n",
       "      <th>Unnamed: 0</th>\n",
       "      <th>ID</th>\n",
       "      <th>Name</th>\n",
       "      <th>Age</th>\n",
       "      <th>Email</th>\n",
       "      <th>Join Date</th>\n",
       "      <th>Salary</th>\n",
       "      <th>Department</th>\n",
       "    </tr>\n",
       "  </thead>\n",
       "  <tbody>\n",
       "    <tr>\n",
       "      <th>0</th>\n",
       "      <td>0</td>\n",
       "      <td>1e407ff9-6255-489d-a0de-34135d4f74bd</td>\n",
       "      <td>Hunter Thomas</td>\n",
       "      <td>25.0</td>\n",
       "      <td>xlopez@hotmail.com</td>\n",
       "      <td>NaN</td>\n",
       "      <td>88552.000000</td>\n",
       "      <td>Sales</td>\n",
       "    </tr>\n",
       "    <tr>\n",
       "      <th>1</th>\n",
       "      <td>1</td>\n",
       "      <td>379f55b8-87d5-4739-a146-7400b78c24d1</td>\n",
       "      <td>Jeremy Irwin</td>\n",
       "      <td>90.0</td>\n",
       "      <td>Jillian Jenkins</td>\n",
       "      <td>2022-07-07</td>\n",
       "      <td>139227.000000</td>\n",
       "      <td>NaN</td>\n",
       "    </tr>\n",
       "    <tr>\n",
       "      <th>2</th>\n",
       "      <td>2</td>\n",
       "      <td>18261368-dfa1-47f0-afc6-bddf45926b07</td>\n",
       "      <td>Jennifer Hammondquickly</td>\n",
       "      <td>66.0</td>\n",
       "      <td>jscottgreen.biz</td>\n",
       "      <td>2023-11-21</td>\n",
       "      <td>65550.000000</td>\n",
       "      <td>Engineering</td>\n",
       "    </tr>\n",
       "    <tr>\n",
       "      <th>3</th>\n",
       "      <td>3</td>\n",
       "      <td>ae7cf7cf-17cf-4c8b-9c44-4f61a9a238e5</td>\n",
       "      <td>Sydney Taylorso</td>\n",
       "      <td>39.0</td>\n",
       "      <td>luke56gonzalez.com</td>\n",
       "      <td>2021-11-05</td>\n",
       "      <td>139932.000000</td>\n",
       "      <td>SupportJ</td>\n",
       "    </tr>\n",
       "    <tr>\n",
       "      <th>4</th>\n",
       "      <td>4</td>\n",
       "      <td>14ed3e6a-e0f5-4bbe-8d93-8665267f5c90</td>\n",
       "      <td>Julia Lee</td>\n",
       "      <td>71.0</td>\n",
       "      <td>figueroakayla@yahoo.com</td>\n",
       "      <td>NaN</td>\n",
       "      <td>143456.000000</td>\n",
       "      <td>Marketing</td>\n",
       "    </tr>\n",
       "    <tr>\n",
       "      <th>...</th>\n",
       "      <td>...</td>\n",
       "      <td>...</td>\n",
       "      <td>...</td>\n",
       "      <td>...</td>\n",
       "      <td>...</td>\n",
       "      <td>...</td>\n",
       "      <td>...</td>\n",
       "      <td>...</td>\n",
       "    </tr>\n",
       "    <tr>\n",
       "      <th>10995</th>\n",
       "      <td>6523</td>\n",
       "      <td>07c223be-03e6-4f70-a2b5-86df778cc61a</td>\n",
       "      <td>NaN</td>\n",
       "      <td>NaN</td>\n",
       "      <td>NaN</td>\n",
       "      <td>NaN</td>\n",
       "      <td>NaN</td>\n",
       "      <td>NaN</td>\n",
       "    </tr>\n",
       "    <tr>\n",
       "      <th>10996</th>\n",
       "      <td>9785</td>\n",
       "      <td>da8a6bbc-5026-4630-848d-f64e80dac56c</td>\n",
       "      <td>Steven Armstrong</td>\n",
       "      <td>38.0</td>\n",
       "      <td>molly89gmail.com</td>\n",
       "      <td>2021-06-24</td>\n",
       "      <td>NaN</td>\n",
       "      <td>Sales</td>\n",
       "    </tr>\n",
       "    <tr>\n",
       "      <th>10997</th>\n",
       "      <td>7826</td>\n",
       "      <td>ed19c966-d6d8-4047-b410-b6e595a39340</td>\n",
       "      <td>Stephanie Riossell</td>\n",
       "      <td>NaN</td>\n",
       "      <td>robert96@pollard-frye.com</td>\n",
       "      <td>15/08/2006</td>\n",
       "      <td>122609.594149</td>\n",
       "      <td>HR</td>\n",
       "    </tr>\n",
       "    <tr>\n",
       "      <th>10998</th>\n",
       "      <td>7648</td>\n",
       "      <td>783b36b4-d09f-46c9-8a52-7ff96b80863e</td>\n",
       "      <td>Bonnie Benitez</td>\n",
       "      <td>37.0</td>\n",
       "      <td>roypark@warren.net</td>\n",
       "      <td>2020-10-09</td>\n",
       "      <td>147322.005171</td>\n",
       "      <td>Support</td>\n",
       "    </tr>\n",
       "    <tr>\n",
       "      <th>10999</th>\n",
       "      <td>7107</td>\n",
       "      <td>fc25a38a-5747-46eb-b6d3-7173f8255809</td>\n",
       "      <td>Caroline Ochoa</td>\n",
       "      <td>53.0</td>\n",
       "      <td>cdavis@hodges.com</td>\n",
       "      <td>2023-08-10</td>\n",
       "      <td>149224.000000</td>\n",
       "      <td>Support</td>\n",
       "    </tr>\n",
       "  </tbody>\n",
       "</table>\n",
       "<p>11000 rows × 8 columns</p>\n",
       "</div>"
      ],
      "text/plain": [
       "       Unnamed: 0                                    ID  \\\n",
       "0               0  1e407ff9-6255-489d-a0de-34135d4f74bd   \n",
       "1               1  379f55b8-87d5-4739-a146-7400b78c24d1   \n",
       "2               2  18261368-dfa1-47f0-afc6-bddf45926b07   \n",
       "3               3  ae7cf7cf-17cf-4c8b-9c44-4f61a9a238e5   \n",
       "4               4  14ed3e6a-e0f5-4bbe-8d93-8665267f5c90   \n",
       "...           ...                                   ...   \n",
       "10995        6523  07c223be-03e6-4f70-a2b5-86df778cc61a   \n",
       "10996        9785  da8a6bbc-5026-4630-848d-f64e80dac56c   \n",
       "10997        7826  ed19c966-d6d8-4047-b410-b6e595a39340   \n",
       "10998        7648  783b36b4-d09f-46c9-8a52-7ff96b80863e   \n",
       "10999        7107  fc25a38a-5747-46eb-b6d3-7173f8255809   \n",
       "\n",
       "                          Name   Age                      Email   Join Date  \\\n",
       "0                Hunter Thomas  25.0         xlopez@hotmail.com         NaN   \n",
       "1                 Jeremy Irwin  90.0            Jillian Jenkins  2022-07-07   \n",
       "2      Jennifer Hammondquickly  66.0            jscottgreen.biz  2023-11-21   \n",
       "3              Sydney Taylorso  39.0         luke56gonzalez.com  2021-11-05   \n",
       "4                    Julia Lee  71.0    figueroakayla@yahoo.com         NaN   \n",
       "...                        ...   ...                        ...         ...   \n",
       "10995                      NaN   NaN                        NaN         NaN   \n",
       "10996         Steven Armstrong  38.0           molly89gmail.com  2021-06-24   \n",
       "10997       Stephanie Riossell   NaN  robert96@pollard-frye.com  15/08/2006   \n",
       "10998           Bonnie Benitez  37.0         roypark@warren.net  2020-10-09   \n",
       "10999           Caroline Ochoa  53.0          cdavis@hodges.com  2023-08-10   \n",
       "\n",
       "              Salary   Department  \n",
       "0       88552.000000        Sales  \n",
       "1      139227.000000          NaN  \n",
       "2       65550.000000  Engineering  \n",
       "3      139932.000000     SupportJ  \n",
       "4      143456.000000    Marketing  \n",
       "...              ...          ...  \n",
       "10995            NaN          NaN  \n",
       "10996            NaN        Sales  \n",
       "10997  122609.594149           HR  \n",
       "10998  147322.005171      Support  \n",
       "10999  149224.000000      Support  \n",
       "\n",
       "[11000 rows x 8 columns]"
      ]
     },
     "execution_count": 2,
     "metadata": {},
     "output_type": "execute_result"
    }
   ],
   "source": [
    "#Load dataset\n",
    "\n",
    "df=pd.read_csv(\"messy_data.csv\")\n",
    "df"
   ]
  },
  {
   "cell_type": "code",
   "execution_count": 3,
   "metadata": {
    "colab": {
     "base_uri": "https://localhost:8080/"
    },
    "id": "tfHGRvJzfkpD",
    "outputId": "342b2c45-8ede-4161-b063-584f15b0233c"
   },
   "outputs": [
    {
     "data": {
      "text/plain": [
       "(11000, 8)"
      ]
     },
     "execution_count": 3,
     "metadata": {},
     "output_type": "execute_result"
    }
   ],
   "source": [
    "#Shape of our dataset\n",
    "\n",
    "df.shape"
   ]
  },
  {
   "cell_type": "code",
   "execution_count": 4,
   "metadata": {
    "colab": {
     "base_uri": "https://localhost:8080/"
    },
    "id": "4zYZDNIIftGB",
    "outputId": "4ad1d9e4-db82-45a6-ef9e-16eafa4e102b"
   },
   "outputs": [
    {
     "data": {
      "text/plain": [
       "Index(['Unnamed: 0', 'ID', 'Name', 'Age', 'Email', 'Join Date', 'Salary',\n",
       "       'Department'],\n",
       "      dtype='object')"
      ]
     },
     "execution_count": 4,
     "metadata": {},
     "output_type": "execute_result"
    }
   ],
   "source": [
    "#Column names\n",
    "\n",
    "df.columns"
   ]
  },
  {
   "cell_type": "code",
   "execution_count": 5,
   "metadata": {
    "id": "g5AbDHXRjch-"
   },
   "outputs": [],
   "source": [
    "#Dropping unnecessary columns ,here 'Unnamed: 0' since it doesnot have any meaning here\n",
    "\n",
    "df=df.drop(columns='Unnamed: 0',axis=1)"
   ]
  },
  {
   "cell_type": "code",
   "execution_count": 6,
   "metadata": {
    "id": "gQR2snrMqPYn"
   },
   "outputs": [],
   "source": [
    "#Rename column name Join Date to Join_Date\n",
    "\n",
    "df.rename(columns={'Join Date': 'Join_Date','ID':'Id'}, inplace=True)"
   ]
  },
  {
   "cell_type": "code",
   "execution_count": 7,
   "metadata": {
    "colab": {
     "base_uri": "https://localhost:8080/"
    },
    "id": "kQIuzYCokr_u",
    "outputId": "6a12e531-37a8-4775-a1d0-bf3deb210000"
   },
   "outputs": [
    {
     "data": {
      "text/plain": [
       "291"
      ]
     },
     "execution_count": 7,
     "metadata": {},
     "output_type": "execute_result"
    }
   ],
   "source": [
    "#Checking for duplicates\n",
    "\n",
    "df.duplicated().sum()\n"
   ]
  },
  {
   "cell_type": "code",
   "execution_count": 8,
   "metadata": {
    "id": "7_iCSJrjlisZ"
   },
   "outputs": [],
   "source": [
    "# dropping duplicates if any\n",
    "\n",
    "df=df.drop_duplicates()\n"
   ]
  },
  {
   "cell_type": "code",
   "execution_count": 9,
   "metadata": {},
   "outputs": [
    {
     "data": {
      "text/plain": [
       "0"
      ]
     },
     "execution_count": 9,
     "metadata": {},
     "output_type": "execute_result"
    }
   ],
   "source": [
    "df.duplicated().sum()"
   ]
  },
  {
   "cell_type": "code",
   "execution_count": 10,
   "metadata": {
    "colab": {
     "base_uri": "https://localhost:8080/"
    },
    "id": "sejjIkm_iEFV",
    "outputId": "0fbbbfbc-39b1-46d4-9702-3714df774978"
   },
   "outputs": [
    {
     "name": "stdout",
     "output_type": "stream",
     "text": [
      "<class 'pandas.core.frame.DataFrame'>\n",
      "Index: 10709 entries, 0 to 10998\n",
      "Data columns (total 7 columns):\n",
      " #   Column      Non-Null Count  Dtype  \n",
      "---  ------      --------------  -----  \n",
      " 0   Id          10709 non-null  object \n",
      " 1   Name        8579 non-null   object \n",
      " 2   Age         9145 non-null   float64\n",
      " 3   Email       9617 non-null   object \n",
      " 4   Join_Date   8707 non-null   object \n",
      " 5   Salary      8661 non-null   float64\n",
      " 6   Department  8647 non-null   object \n",
      "dtypes: float64(2), object(5)\n",
      "memory usage: 669.3+ KB\n"
     ]
    }
   ],
   "source": [
    "#Structure of the dataset\n",
    "\n",
    "df.info()"
   ]
  },
  {
   "cell_type": "markdown",
   "metadata": {
    "id": "wlM8CtgSigHU"
   },
   "source": [
    "Insights:\n",
    "\n",
    "1)This dataset contains 10709 rows and 7 columns after removing duplicates.\n",
    "\n",
    "\n"
   ]
  },
  {
   "cell_type": "code",
   "execution_count": 11,
   "metadata": {
    "colab": {
     "base_uri": "https://localhost:8080/"
    },
    "id": "JGUriO-0ikBm",
    "outputId": "1a6ab407-9192-49a2-e104-086ba1289b30"
   },
   "outputs": [
    {
     "data": {
      "text/plain": [
       "Id             object\n",
       "Name           object\n",
       "Age           float64\n",
       "Email          object\n",
       "Join_Date      object\n",
       "Salary        float64\n",
       "Department     object\n",
       "dtype: object"
      ]
     },
     "execution_count": 11,
     "metadata": {},
     "output_type": "execute_result"
    }
   ],
   "source": [
    "# to get the datatypes of our columns\n",
    "df.dtypes"
   ]
  },
  {
   "cell_type": "code",
   "execution_count": 12,
   "metadata": {
    "colab": {
     "base_uri": "https://localhost:8080/",
     "height": 293
    },
    "id": "krRUpLJAixz6",
    "outputId": "1163710b-18bb-4ea9-d09b-eda2cabe6e51"
   },
   "outputs": [
    {
     "data": {
      "text/html": [
       "<div>\n",
       "<style scoped>\n",
       "    .dataframe tbody tr th:only-of-type {\n",
       "        vertical-align: middle;\n",
       "    }\n",
       "\n",
       "    .dataframe tbody tr th {\n",
       "        vertical-align: top;\n",
       "    }\n",
       "\n",
       "    .dataframe thead th {\n",
       "        text-align: right;\n",
       "    }\n",
       "</style>\n",
       "<table border=\"1\" class=\"dataframe\">\n",
       "  <thead>\n",
       "    <tr style=\"text-align: right;\">\n",
       "      <th></th>\n",
       "      <th>Id</th>\n",
       "      <th>Name</th>\n",
       "      <th>Age</th>\n",
       "      <th>Email</th>\n",
       "      <th>Join_Date</th>\n",
       "      <th>Salary</th>\n",
       "      <th>Department</th>\n",
       "    </tr>\n",
       "  </thead>\n",
       "  <tbody>\n",
       "    <tr>\n",
       "      <th>0</th>\n",
       "      <td>1e407ff9-6255-489d-a0de-34135d4f74bd</td>\n",
       "      <td>Hunter Thomas</td>\n",
       "      <td>25.0</td>\n",
       "      <td>xlopez@hotmail.com</td>\n",
       "      <td>NaN</td>\n",
       "      <td>88552.0</td>\n",
       "      <td>Sales</td>\n",
       "    </tr>\n",
       "    <tr>\n",
       "      <th>1</th>\n",
       "      <td>379f55b8-87d5-4739-a146-7400b78c24d1</td>\n",
       "      <td>Jeremy Irwin</td>\n",
       "      <td>90.0</td>\n",
       "      <td>Jillian Jenkins</td>\n",
       "      <td>2022-07-07</td>\n",
       "      <td>139227.0</td>\n",
       "      <td>NaN</td>\n",
       "    </tr>\n",
       "    <tr>\n",
       "      <th>2</th>\n",
       "      <td>18261368-dfa1-47f0-afc6-bddf45926b07</td>\n",
       "      <td>Jennifer Hammondquickly</td>\n",
       "      <td>66.0</td>\n",
       "      <td>jscottgreen.biz</td>\n",
       "      <td>2023-11-21</td>\n",
       "      <td>65550.0</td>\n",
       "      <td>Engineering</td>\n",
       "    </tr>\n",
       "    <tr>\n",
       "      <th>3</th>\n",
       "      <td>ae7cf7cf-17cf-4c8b-9c44-4f61a9a238e5</td>\n",
       "      <td>Sydney Taylorso</td>\n",
       "      <td>39.0</td>\n",
       "      <td>luke56gonzalez.com</td>\n",
       "      <td>2021-11-05</td>\n",
       "      <td>139932.0</td>\n",
       "      <td>SupportJ</td>\n",
       "    </tr>\n",
       "    <tr>\n",
       "      <th>4</th>\n",
       "      <td>14ed3e6a-e0f5-4bbe-8d93-8665267f5c90</td>\n",
       "      <td>Julia Lee</td>\n",
       "      <td>71.0</td>\n",
       "      <td>figueroakayla@yahoo.com</td>\n",
       "      <td>NaN</td>\n",
       "      <td>143456.0</td>\n",
       "      <td>Marketing</td>\n",
       "    </tr>\n",
       "  </tbody>\n",
       "</table>\n",
       "</div>"
      ],
      "text/plain": [
       "                                     Id                     Name   Age  \\\n",
       "0  1e407ff9-6255-489d-a0de-34135d4f74bd            Hunter Thomas  25.0   \n",
       "1  379f55b8-87d5-4739-a146-7400b78c24d1             Jeremy Irwin  90.0   \n",
       "2  18261368-dfa1-47f0-afc6-bddf45926b07  Jennifer Hammondquickly  66.0   \n",
       "3  ae7cf7cf-17cf-4c8b-9c44-4f61a9a238e5          Sydney Taylorso  39.0   \n",
       "4  14ed3e6a-e0f5-4bbe-8d93-8665267f5c90                Julia Lee  71.0   \n",
       "\n",
       "                     Email   Join_Date    Salary   Department  \n",
       "0       xlopez@hotmail.com         NaN   88552.0        Sales  \n",
       "1          Jillian Jenkins  2022-07-07  139227.0          NaN  \n",
       "2          jscottgreen.biz  2023-11-21   65550.0  Engineering  \n",
       "3       luke56gonzalez.com  2021-11-05  139932.0     SupportJ  \n",
       "4  figueroakayla@yahoo.com         NaN  143456.0    Marketing  "
      ]
     },
     "execution_count": 12,
     "metadata": {},
     "output_type": "execute_result"
    }
   ],
   "source": [
    "#first few rows\n",
    "df.head()"
   ]
  },
  {
   "cell_type": "code",
   "execution_count": 13,
   "metadata": {
    "colab": {
     "base_uri": "https://localhost:8080/"
    },
    "id": "uoFOu9sQmkIU",
    "outputId": "76c8dc54-17d1-41f9-f822-c31cf6a68b85"
   },
   "outputs": [
    {
     "data": {
      "text/plain": [
       "Id               0\n",
       "Name          2130\n",
       "Age           1564\n",
       "Email         1092\n",
       "Join_Date     2002\n",
       "Salary        2048\n",
       "Department    2062\n",
       "dtype: int64"
      ]
     },
     "execution_count": 13,
     "metadata": {},
     "output_type": "execute_result"
    }
   ],
   "source": [
    "#Checking for null values\n",
    "df.isna().sum()"
   ]
  },
  {
   "cell_type": "markdown",
   "metadata": {
    "id": "WJdNi8JKElD0"
   },
   "source": [
    "Insights:\n",
    "\n",
    "There are null values in all the columns except Id.\n",
    "\n"
   ]
  },
  {
   "cell_type": "code",
   "execution_count": 14,
   "metadata": {
    "id": "yYJxZiTGIITW"
   },
   "outputs": [],
   "source": [
    "#Removing rows that contains Nan values in 6 columns\n",
    "columns_to_check = ['Name', 'Age', 'Email', 'Join_Date', 'Salary',\n",
    "       'Department'] # Specify the column names here\n",
    "\n",
    "# Remove rows where all specified columns have null values\n",
    "df= df.dropna(subset=columns_to_check, how='all')"
   ]
  },
  {
   "cell_type": "code",
   "execution_count": 15,
   "metadata": {
    "colab": {
     "base_uri": "https://localhost:8080/"
    },
    "id": "6V27O0iDLxch",
    "outputId": "63adec59-462e-4e40-f68f-4505ac9fdb15"
   },
   "outputs": [
    {
     "data": {
      "text/plain": [
       "(9617, 7)"
      ]
     },
     "execution_count": 15,
     "metadata": {},
     "output_type": "execute_result"
    }
   ],
   "source": [
    "df.shape"
   ]
  },
  {
   "cell_type": "code",
   "execution_count": 16,
   "metadata": {
    "colab": {
     "base_uri": "https://localhost:8080/",
     "height": 300
    },
    "id": "wVzGJ0MLkdUk",
    "outputId": "7596fbe0-578f-4459-83be-55c0523ebbd0"
   },
   "outputs": [
    {
     "data": {
      "text/html": [
       "<div>\n",
       "<style scoped>\n",
       "    .dataframe tbody tr th:only-of-type {\n",
       "        vertical-align: middle;\n",
       "    }\n",
       "\n",
       "    .dataframe tbody tr th {\n",
       "        vertical-align: top;\n",
       "    }\n",
       "\n",
       "    .dataframe thead th {\n",
       "        text-align: right;\n",
       "    }\n",
       "</style>\n",
       "<table border=\"1\" class=\"dataframe\">\n",
       "  <thead>\n",
       "    <tr style=\"text-align: right;\">\n",
       "      <th></th>\n",
       "      <th>Age</th>\n",
       "      <th>Salary</th>\n",
       "    </tr>\n",
       "  </thead>\n",
       "  <tbody>\n",
       "    <tr>\n",
       "      <th>count</th>\n",
       "      <td>9145.000000</td>\n",
       "      <td>8661.000000</td>\n",
       "    </tr>\n",
       "    <tr>\n",
       "      <th>mean</th>\n",
       "      <td>54.167523</td>\n",
       "      <td>89839.028667</td>\n",
       "    </tr>\n",
       "    <tr>\n",
       "      <th>std</th>\n",
       "      <td>21.079546</td>\n",
       "      <td>34879.814556</td>\n",
       "    </tr>\n",
       "    <tr>\n",
       "      <th>min</th>\n",
       "      <td>18.000000</td>\n",
       "      <td>24655.136613</td>\n",
       "    </tr>\n",
       "    <tr>\n",
       "      <th>25%</th>\n",
       "      <td>36.000000</td>\n",
       "      <td>59686.000000</td>\n",
       "    </tr>\n",
       "    <tr>\n",
       "      <th>50%</th>\n",
       "      <td>54.000000</td>\n",
       "      <td>89168.000000</td>\n",
       "    </tr>\n",
       "    <tr>\n",
       "      <th>75%</th>\n",
       "      <td>72.000000</td>\n",
       "      <td>119424.000000</td>\n",
       "    </tr>\n",
       "    <tr>\n",
       "      <th>max</th>\n",
       "      <td>90.000000</td>\n",
       "      <td>176156.206747</td>\n",
       "    </tr>\n",
       "  </tbody>\n",
       "</table>\n",
       "</div>"
      ],
      "text/plain": [
       "               Age         Salary\n",
       "count  9145.000000    8661.000000\n",
       "mean     54.167523   89839.028667\n",
       "std      21.079546   34879.814556\n",
       "min      18.000000   24655.136613\n",
       "25%      36.000000   59686.000000\n",
       "50%      54.000000   89168.000000\n",
       "75%      72.000000  119424.000000\n",
       "max      90.000000  176156.206747"
      ]
     },
     "execution_count": 16,
     "metadata": {},
     "output_type": "execute_result"
    }
   ],
   "source": [
    "#Summary Statistics\n",
    "df.describe()"
   ]
  },
  {
   "cell_type": "code",
   "execution_count": 17,
   "metadata": {
    "colab": {
     "base_uri": "https://localhost:8080/",
     "height": 175
    },
    "id": "8IsvAxrXojH1",
    "outputId": "34dc2097-5513-465a-a2dc-b04eb9742f8e"
   },
   "outputs": [
    {
     "data": {
      "text/html": [
       "<div>\n",
       "<style scoped>\n",
       "    .dataframe tbody tr th:only-of-type {\n",
       "        vertical-align: middle;\n",
       "    }\n",
       "\n",
       "    .dataframe tbody tr th {\n",
       "        vertical-align: top;\n",
       "    }\n",
       "\n",
       "    .dataframe thead th {\n",
       "        text-align: right;\n",
       "    }\n",
       "</style>\n",
       "<table border=\"1\" class=\"dataframe\">\n",
       "  <thead>\n",
       "    <tr style=\"text-align: right;\">\n",
       "      <th></th>\n",
       "      <th>Id</th>\n",
       "      <th>Name</th>\n",
       "      <th>Email</th>\n",
       "      <th>Join_Date</th>\n",
       "      <th>Department</th>\n",
       "    </tr>\n",
       "  </thead>\n",
       "  <tbody>\n",
       "    <tr>\n",
       "      <th>count</th>\n",
       "      <td>9617</td>\n",
       "      <td>8579</td>\n",
       "      <td>9617</td>\n",
       "      <td>8707</td>\n",
       "      <td>8647</td>\n",
       "    </tr>\n",
       "    <tr>\n",
       "      <th>unique</th>\n",
       "      <td>8908</td>\n",
       "      <td>7929</td>\n",
       "      <td>9160</td>\n",
       "      <td>3338</td>\n",
       "      <td>264</td>\n",
       "    </tr>\n",
       "    <tr>\n",
       "      <th>top</th>\n",
       "      <td>468d3baa-8db4-477d-8090-e7399b2820a7</td>\n",
       "      <td>Elizabeth Williams</td>\n",
       "      <td>mmurphy@gmail.com</td>\n",
       "      <td>2020-07-20</td>\n",
       "      <td>Marketing</td>\n",
       "    </tr>\n",
       "    <tr>\n",
       "      <th>freq</th>\n",
       "      <td>2</td>\n",
       "      <td>6</td>\n",
       "      <td>3</td>\n",
       "      <td>11</td>\n",
       "      <td>1408</td>\n",
       "    </tr>\n",
       "  </tbody>\n",
       "</table>\n",
       "</div>"
      ],
      "text/plain": [
       "                                          Id                Name  \\\n",
       "count                                   9617                8579   \n",
       "unique                                  8908                7929   \n",
       "top     468d3baa-8db4-477d-8090-e7399b2820a7  Elizabeth Williams   \n",
       "freq                                       2                   6   \n",
       "\n",
       "                    Email   Join_Date Department  \n",
       "count                9617        8707       8647  \n",
       "unique               9160        3338        264  \n",
       "top     mmurphy@gmail.com  2020-07-20  Marketing  \n",
       "freq                    3          11       1408  "
      ]
     },
     "execution_count": 17,
     "metadata": {},
     "output_type": "execute_result"
    }
   ],
   "source": [
    "df.describe(include=\"object\")"
   ]
  },
  {
   "cell_type": "markdown",
   "metadata": {
    "id": "Ve9g-xfWMBkF"
   },
   "source": [
    " **Correcting Email Formats:**"
   ]
  },
  {
   "cell_type": "code",
   "execution_count": 18,
   "metadata": {
    "colab": {
     "base_uri": "https://localhost:8080/"
    },
    "id": "k53tcd-IL9GO",
    "outputId": "db99bf4a-ddad-4a8e-e013-bdfeabcb60a8"
   },
   "outputs": [
    {
     "data": {
      "text/plain": [
       "array(['xlopez@hotmail.com', 'Jillian Jenkins', 'jscottgreen.biz', ...,\n",
       "       'weavermary@yahoo.com', 'kingcharles@hotmail.com',\n",
       "       'molly89gmail.com'], dtype=object)"
      ]
     },
     "execution_count": 18,
     "metadata": {},
     "output_type": "execute_result"
    }
   ],
   "source": [
    "# finding unique values in the Email\n",
    "df['Email'].unique()"
   ]
  },
  {
   "cell_type": "code",
   "execution_count": 19,
   "metadata": {
    "id": "UxRQ7MeyF_J8"
   },
   "outputs": [],
   "source": [
    "import numpy as np\n",
    "# Function to validate email addresses\n",
    "def validate_email(email):\n",
    "    if pd.isnull(email):\n",
    "        return False\n",
    "    pattern = r'^[a-zA-Z0-9._%+-]+@[a-zA-Z0-9.-]+\\.[a-zA-Z]{2,}$'\n",
    "    return re.match(pattern, email) is not None\n",
    "\n",
    "# Apply email validation and replace unprofessional emails with NaN\n",
    "df['Email'] = df['Email'].apply(lambda x: x if validate_email(x) else np.nan)\n",
    "\n",
    "# Remove leading and trailing whitespace\n",
    "df['Email'] = df['Email'].str.strip()\n",
    "\n",
    "# Convert to lowercase\n",
    "df['Email'] = df['Email'].str.lower()\n",
    "\n",
    "\n",
    "# Drop rows with NaN values in 'Email'\n",
    "df = df.dropna(subset=['Email'])\n",
    "\n"
   ]
  },
  {
   "cell_type": "code",
   "execution_count": 20,
   "metadata": {
    "colab": {
     "base_uri": "https://localhost:8080/"
    },
    "id": "2jlOsAH_dmzp",
    "outputId": "95e05076-ab86-407b-efb9-9527754b8a4f"
   },
   "outputs": [
    {
     "data": {
      "text/plain": [
       "0"
      ]
     },
     "execution_count": 20,
     "metadata": {},
     "output_type": "execute_result"
    }
   ],
   "source": [
    "#Checking for Nan values\n",
    "df['Email'].isna().sum()"
   ]
  },
  {
   "cell_type": "code",
   "execution_count": 21,
   "metadata": {
    "colab": {
     "base_uri": "https://localhost:8080/",
     "height": 293
    },
    "id": "oT7vWS6teIof",
    "outputId": "b4f38bc8-692e-4ea4-bebf-fb2fa810d5fe"
   },
   "outputs": [
    {
     "data": {
      "text/html": [
       "<div>\n",
       "<style scoped>\n",
       "    .dataframe tbody tr th:only-of-type {\n",
       "        vertical-align: middle;\n",
       "    }\n",
       "\n",
       "    .dataframe tbody tr th {\n",
       "        vertical-align: top;\n",
       "    }\n",
       "\n",
       "    .dataframe thead th {\n",
       "        text-align: right;\n",
       "    }\n",
       "</style>\n",
       "<table border=\"1\" class=\"dataframe\">\n",
       "  <thead>\n",
       "    <tr style=\"text-align: right;\">\n",
       "      <th></th>\n",
       "      <th>Id</th>\n",
       "      <th>Name</th>\n",
       "      <th>Age</th>\n",
       "      <th>Email</th>\n",
       "      <th>Join_Date</th>\n",
       "      <th>Salary</th>\n",
       "      <th>Department</th>\n",
       "    </tr>\n",
       "  </thead>\n",
       "  <tbody>\n",
       "    <tr>\n",
       "      <th>0</th>\n",
       "      <td>1e407ff9-6255-489d-a0de-34135d4f74bd</td>\n",
       "      <td>Hunter Thomas</td>\n",
       "      <td>25.0</td>\n",
       "      <td>xlopez@hotmail.com</td>\n",
       "      <td>NaN</td>\n",
       "      <td>88552.000000</td>\n",
       "      <td>Sales</td>\n",
       "    </tr>\n",
       "    <tr>\n",
       "      <th>4</th>\n",
       "      <td>14ed3e6a-e0f5-4bbe-8d93-8665267f5c90</td>\n",
       "      <td>Julia Lee</td>\n",
       "      <td>71.0</td>\n",
       "      <td>figueroakayla@yahoo.com</td>\n",
       "      <td>NaN</td>\n",
       "      <td>143456.000000</td>\n",
       "      <td>Marketing</td>\n",
       "    </tr>\n",
       "    <tr>\n",
       "      <th>5</th>\n",
       "      <td>f92ea13f-24d3-4792-91e4-5b0e07d90c2c</td>\n",
       "      <td>Lisa Bailey</td>\n",
       "      <td>81.0</td>\n",
       "      <td>milleryvonne@fowler-york.com</td>\n",
       "      <td>15/10/2016</td>\n",
       "      <td>123018.000000</td>\n",
       "      <td>SupportE</td>\n",
       "    </tr>\n",
       "    <tr>\n",
       "      <th>8</th>\n",
       "      <td>12cc2f16-d641-402e-b22b-3332bafc4f1d</td>\n",
       "      <td>NaN</td>\n",
       "      <td>71.0</td>\n",
       "      <td>andrew74@hotmail.com</td>\n",
       "      <td>2022-02-12</td>\n",
       "      <td>83354.000000</td>\n",
       "      <td>Sales</td>\n",
       "    </tr>\n",
       "    <tr>\n",
       "      <th>9</th>\n",
       "      <td>d06f507d-62e5-4bd6-a252-4e60e109d324</td>\n",
       "      <td>Jay Fisher</td>\n",
       "      <td>44.0</td>\n",
       "      <td>denisemaynard@jordan.com</td>\n",
       "      <td>2022-12-08</td>\n",
       "      <td>37701.725993</td>\n",
       "      <td>HR</td>\n",
       "    </tr>\n",
       "    <tr>\n",
       "      <th>...</th>\n",
       "      <td>...</td>\n",
       "      <td>...</td>\n",
       "      <td>...</td>\n",
       "      <td>...</td>\n",
       "      <td>...</td>\n",
       "      <td>...</td>\n",
       "      <td>...</td>\n",
       "    </tr>\n",
       "    <tr>\n",
       "      <th>10991</th>\n",
       "      <td>612011e6-101d-4ee2-bbca-16a5056d8217</td>\n",
       "      <td>Jeffrey Elliottnation</td>\n",
       "      <td>72.0</td>\n",
       "      <td>jpatterson@wise.org</td>\n",
       "      <td>2021-08-05</td>\n",
       "      <td>50510.777098</td>\n",
       "      <td>Support</td>\n",
       "    </tr>\n",
       "    <tr>\n",
       "      <th>10992</th>\n",
       "      <td>749e71e0-f852-4749-bae3-b59b9c5a9e77</td>\n",
       "      <td>NaN</td>\n",
       "      <td>31.0</td>\n",
       "      <td>kingcharles@hotmail.com</td>\n",
       "      <td>2020-11-28</td>\n",
       "      <td>88530.000000</td>\n",
       "      <td>Marketing</td>\n",
       "    </tr>\n",
       "    <tr>\n",
       "      <th>10994</th>\n",
       "      <td>6714ff24-3600-4c6e-8eed-5b4224bd9e44</td>\n",
       "      <td>Karen Wells</td>\n",
       "      <td>29.0</td>\n",
       "      <td>cheryllewis@hotmail.com</td>\n",
       "      <td>NaN</td>\n",
       "      <td>147555.000000</td>\n",
       "      <td>Engineering</td>\n",
       "    </tr>\n",
       "    <tr>\n",
       "      <th>10997</th>\n",
       "      <td>ed19c966-d6d8-4047-b410-b6e595a39340</td>\n",
       "      <td>Stephanie Riossell</td>\n",
       "      <td>NaN</td>\n",
       "      <td>robert96@pollard-frye.com</td>\n",
       "      <td>15/08/2006</td>\n",
       "      <td>122609.594149</td>\n",
       "      <td>HR</td>\n",
       "    </tr>\n",
       "    <tr>\n",
       "      <th>10998</th>\n",
       "      <td>783b36b4-d09f-46c9-8a52-7ff96b80863e</td>\n",
       "      <td>Bonnie Benitez</td>\n",
       "      <td>37.0</td>\n",
       "      <td>roypark@warren.net</td>\n",
       "      <td>2020-10-09</td>\n",
       "      <td>147322.005171</td>\n",
       "      <td>Support</td>\n",
       "    </tr>\n",
       "  </tbody>\n",
       "</table>\n",
       "<p>7207 rows × 7 columns</p>\n",
       "</div>"
      ],
      "text/plain": [
       "                                         Id                   Name   Age  \\\n",
       "0      1e407ff9-6255-489d-a0de-34135d4f74bd          Hunter Thomas  25.0   \n",
       "4      14ed3e6a-e0f5-4bbe-8d93-8665267f5c90              Julia Lee  71.0   \n",
       "5      f92ea13f-24d3-4792-91e4-5b0e07d90c2c            Lisa Bailey  81.0   \n",
       "8      12cc2f16-d641-402e-b22b-3332bafc4f1d                    NaN  71.0   \n",
       "9      d06f507d-62e5-4bd6-a252-4e60e109d324             Jay Fisher  44.0   \n",
       "...                                     ...                    ...   ...   \n",
       "10991  612011e6-101d-4ee2-bbca-16a5056d8217  Jeffrey Elliottnation  72.0   \n",
       "10992  749e71e0-f852-4749-bae3-b59b9c5a9e77                    NaN  31.0   \n",
       "10994  6714ff24-3600-4c6e-8eed-5b4224bd9e44            Karen Wells  29.0   \n",
       "10997  ed19c966-d6d8-4047-b410-b6e595a39340     Stephanie Riossell   NaN   \n",
       "10998  783b36b4-d09f-46c9-8a52-7ff96b80863e         Bonnie Benitez  37.0   \n",
       "\n",
       "                              Email   Join_Date         Salary   Department  \n",
       "0                xlopez@hotmail.com         NaN   88552.000000        Sales  \n",
       "4           figueroakayla@yahoo.com         NaN  143456.000000    Marketing  \n",
       "5      milleryvonne@fowler-york.com  15/10/2016  123018.000000     SupportE  \n",
       "8              andrew74@hotmail.com  2022-02-12   83354.000000        Sales  \n",
       "9          denisemaynard@jordan.com  2022-12-08   37701.725993           HR  \n",
       "...                             ...         ...            ...          ...  \n",
       "10991           jpatterson@wise.org  2021-08-05   50510.777098      Support  \n",
       "10992       kingcharles@hotmail.com  2020-11-28   88530.000000    Marketing  \n",
       "10994       cheryllewis@hotmail.com         NaN  147555.000000  Engineering  \n",
       "10997     robert96@pollard-frye.com  15/08/2006  122609.594149           HR  \n",
       "10998            roypark@warren.net  2020-10-09  147322.005171      Support  \n",
       "\n",
       "[7207 rows x 7 columns]"
      ]
     },
     "execution_count": 21,
     "metadata": {},
     "output_type": "execute_result"
    }
   ],
   "source": [
    "df"
   ]
  },
  {
   "cell_type": "code",
   "execution_count": 22,
   "metadata": {
    "colab": {
     "base_uri": "https://localhost:8080/"
    },
    "id": "QkHLRnrsfC5-",
    "outputId": "99df5655-5202-411a-fe31-f8e997e1264d"
   },
   "outputs": [
    {
     "data": {
      "text/plain": [
       "(7207, 7)"
      ]
     },
     "execution_count": 22,
     "metadata": {},
     "output_type": "execute_result"
    }
   ],
   "source": [
    "df.shape"
   ]
  },
  {
   "cell_type": "markdown",
   "metadata": {
    "id": "Vaq8CwrpQ2Km"
   },
   "source": [
    "**Cleaning Name Fields**"
   ]
  },
  {
   "cell_type": "code",
   "execution_count": 23,
   "metadata": {
    "colab": {
     "base_uri": "https://localhost:8080/",
     "height": 597
    },
    "id": "VgLDB3kLDLKb",
    "outputId": "14d1ad0f-db6b-47c2-d301-e0ec579c7e02"
   },
   "outputs": [
    {
     "data": {
      "text/html": [
       "<div>\n",
       "<style scoped>\n",
       "    .dataframe tbody tr th:only-of-type {\n",
       "        vertical-align: middle;\n",
       "    }\n",
       "\n",
       "    .dataframe tbody tr th {\n",
       "        vertical-align: top;\n",
       "    }\n",
       "\n",
       "    .dataframe thead th {\n",
       "        text-align: right;\n",
       "    }\n",
       "</style>\n",
       "<table border=\"1\" class=\"dataframe\">\n",
       "  <thead>\n",
       "    <tr style=\"text-align: right;\">\n",
       "      <th></th>\n",
       "      <th>Id</th>\n",
       "      <th>FirstName</th>\n",
       "      <th>Age</th>\n",
       "      <th>Email</th>\n",
       "      <th>Join_Date</th>\n",
       "      <th>Salary</th>\n",
       "      <th>Department</th>\n",
       "    </tr>\n",
       "  </thead>\n",
       "  <tbody>\n",
       "    <tr>\n",
       "      <th>0</th>\n",
       "      <td>1e407ff9-6255-489d-a0de-34135d4f74bd</td>\n",
       "      <td>Hunter</td>\n",
       "      <td>25.0</td>\n",
       "      <td>xlopez@hotmail.com</td>\n",
       "      <td>NaN</td>\n",
       "      <td>88552.000000</td>\n",
       "      <td>Sales</td>\n",
       "    </tr>\n",
       "    <tr>\n",
       "      <th>4</th>\n",
       "      <td>14ed3e6a-e0f5-4bbe-8d93-8665267f5c90</td>\n",
       "      <td>Julia</td>\n",
       "      <td>71.0</td>\n",
       "      <td>figueroakayla@yahoo.com</td>\n",
       "      <td>NaN</td>\n",
       "      <td>143456.000000</td>\n",
       "      <td>Marketing</td>\n",
       "    </tr>\n",
       "    <tr>\n",
       "      <th>5</th>\n",
       "      <td>f92ea13f-24d3-4792-91e4-5b0e07d90c2c</td>\n",
       "      <td>Lisa</td>\n",
       "      <td>81.0</td>\n",
       "      <td>milleryvonne@fowler-york.com</td>\n",
       "      <td>15/10/2016</td>\n",
       "      <td>123018.000000</td>\n",
       "      <td>SupportE</td>\n",
       "    </tr>\n",
       "    <tr>\n",
       "      <th>8</th>\n",
       "      <td>12cc2f16-d641-402e-b22b-3332bafc4f1d</td>\n",
       "      <td>NaN</td>\n",
       "      <td>71.0</td>\n",
       "      <td>andrew74@hotmail.com</td>\n",
       "      <td>2022-02-12</td>\n",
       "      <td>83354.000000</td>\n",
       "      <td>Sales</td>\n",
       "    </tr>\n",
       "    <tr>\n",
       "      <th>9</th>\n",
       "      <td>d06f507d-62e5-4bd6-a252-4e60e109d324</td>\n",
       "      <td>Jay</td>\n",
       "      <td>44.0</td>\n",
       "      <td>denisemaynard@jordan.com</td>\n",
       "      <td>2022-12-08</td>\n",
       "      <td>37701.725993</td>\n",
       "      <td>HR</td>\n",
       "    </tr>\n",
       "    <tr>\n",
       "      <th>...</th>\n",
       "      <td>...</td>\n",
       "      <td>...</td>\n",
       "      <td>...</td>\n",
       "      <td>...</td>\n",
       "      <td>...</td>\n",
       "      <td>...</td>\n",
       "      <td>...</td>\n",
       "    </tr>\n",
       "    <tr>\n",
       "      <th>10991</th>\n",
       "      <td>612011e6-101d-4ee2-bbca-16a5056d8217</td>\n",
       "      <td>Jeffrey</td>\n",
       "      <td>72.0</td>\n",
       "      <td>jpatterson@wise.org</td>\n",
       "      <td>2021-08-05</td>\n",
       "      <td>50510.777098</td>\n",
       "      <td>Support</td>\n",
       "    </tr>\n",
       "    <tr>\n",
       "      <th>10992</th>\n",
       "      <td>749e71e0-f852-4749-bae3-b59b9c5a9e77</td>\n",
       "      <td>NaN</td>\n",
       "      <td>31.0</td>\n",
       "      <td>kingcharles@hotmail.com</td>\n",
       "      <td>2020-11-28</td>\n",
       "      <td>88530.000000</td>\n",
       "      <td>Marketing</td>\n",
       "    </tr>\n",
       "    <tr>\n",
       "      <th>10994</th>\n",
       "      <td>6714ff24-3600-4c6e-8eed-5b4224bd9e44</td>\n",
       "      <td>Karen</td>\n",
       "      <td>29.0</td>\n",
       "      <td>cheryllewis@hotmail.com</td>\n",
       "      <td>NaN</td>\n",
       "      <td>147555.000000</td>\n",
       "      <td>Engineering</td>\n",
       "    </tr>\n",
       "    <tr>\n",
       "      <th>10997</th>\n",
       "      <td>ed19c966-d6d8-4047-b410-b6e595a39340</td>\n",
       "      <td>Stephanie</td>\n",
       "      <td>NaN</td>\n",
       "      <td>robert96@pollard-frye.com</td>\n",
       "      <td>15/08/2006</td>\n",
       "      <td>122609.594149</td>\n",
       "      <td>HR</td>\n",
       "    </tr>\n",
       "    <tr>\n",
       "      <th>10998</th>\n",
       "      <td>783b36b4-d09f-46c9-8a52-7ff96b80863e</td>\n",
       "      <td>Bonnie</td>\n",
       "      <td>37.0</td>\n",
       "      <td>roypark@warren.net</td>\n",
       "      <td>2020-10-09</td>\n",
       "      <td>147322.005171</td>\n",
       "      <td>Support</td>\n",
       "    </tr>\n",
       "  </tbody>\n",
       "</table>\n",
       "<p>7207 rows × 7 columns</p>\n",
       "</div>"
      ],
      "text/plain": [
       "                                         Id  FirstName   Age  \\\n",
       "0      1e407ff9-6255-489d-a0de-34135d4f74bd     Hunter  25.0   \n",
       "4      14ed3e6a-e0f5-4bbe-8d93-8665267f5c90      Julia  71.0   \n",
       "5      f92ea13f-24d3-4792-91e4-5b0e07d90c2c       Lisa  81.0   \n",
       "8      12cc2f16-d641-402e-b22b-3332bafc4f1d        NaN  71.0   \n",
       "9      d06f507d-62e5-4bd6-a252-4e60e109d324        Jay  44.0   \n",
       "...                                     ...        ...   ...   \n",
       "10991  612011e6-101d-4ee2-bbca-16a5056d8217    Jeffrey  72.0   \n",
       "10992  749e71e0-f852-4749-bae3-b59b9c5a9e77        NaN  31.0   \n",
       "10994  6714ff24-3600-4c6e-8eed-5b4224bd9e44      Karen  29.0   \n",
       "10997  ed19c966-d6d8-4047-b410-b6e595a39340  Stephanie   NaN   \n",
       "10998  783b36b4-d09f-46c9-8a52-7ff96b80863e     Bonnie  37.0   \n",
       "\n",
       "                              Email   Join_Date         Salary   Department  \n",
       "0                xlopez@hotmail.com         NaN   88552.000000        Sales  \n",
       "4           figueroakayla@yahoo.com         NaN  143456.000000    Marketing  \n",
       "5      milleryvonne@fowler-york.com  15/10/2016  123018.000000     SupportE  \n",
       "8              andrew74@hotmail.com  2022-02-12   83354.000000        Sales  \n",
       "9          denisemaynard@jordan.com  2022-12-08   37701.725993           HR  \n",
       "...                             ...         ...            ...          ...  \n",
       "10991           jpatterson@wise.org  2021-08-05   50510.777098      Support  \n",
       "10992       kingcharles@hotmail.com  2020-11-28   88530.000000    Marketing  \n",
       "10994       cheryllewis@hotmail.com         NaN  147555.000000  Engineering  \n",
       "10997     robert96@pollard-frye.com  15/08/2006  122609.594149           HR  \n",
       "10998            roypark@warren.net  2020-10-09  147322.005171      Support  \n",
       "\n",
       "[7207 rows x 7 columns]"
      ]
     },
     "execution_count": 23,
     "metadata": {},
     "output_type": "execute_result"
    }
   ],
   "source": [
    "# List of titles to remove\n",
    "titles = ['Mr.', 'Mrs.', 'Ms.', 'Dr.', 'Miss', 'Prof.']\n",
    "\n",
    "# Function to remove titles and extract first name\n",
    "def clean_name(name):\n",
    "    if pd.notnull(name):\n",
    "        for title in titles:\n",
    "            name = name.replace(title, '').strip()\n",
    "        return name.split()[0] if name else np.nan\n",
    "    return np.nan\n",
    "\n",
    "# Apply the function to the 'Name' column to get the 'FirstName'\n",
    "df['FirstName'] = df['Name'].apply(clean_name)\n",
    "\n",
    "# Get the position of the 'Name' column\n",
    "name_col_position = df.columns.get_loc('Name')\n",
    "\n",
    "# Insert the 'FirstName' column at the same position as the 'Name' column\n",
    "df.insert(name_col_position, 'FirstName', df.pop('FirstName'))\n",
    "\n",
    "# Optionally, drop the original 'Name' column if not needed\n",
    "df.drop(columns=['Name'], inplace=True)\n",
    "\n",
    "# Print the final DataFrame\n",
    "df"
   ]
  },
  {
   "cell_type": "code",
   "execution_count": 24,
   "metadata": {
    "colab": {
     "base_uri": "https://localhost:8080/"
    },
    "id": "1cZM6yDWM1Yc",
    "outputId": "481aa6e2-36af-43a3-ec81-9053310f8097"
   },
   "outputs": [
    {
     "data": {
      "text/plain": [
       "775"
      ]
     },
     "execution_count": 24,
     "metadata": {},
     "output_type": "execute_result"
    }
   ],
   "source": [
    "df['FirstName'].isna().sum()"
   ]
  },
  {
   "cell_type": "code",
   "execution_count": 25,
   "metadata": {
    "colab": {
     "base_uri": "https://localhost:8080/",
     "height": 597
    },
    "id": "xVKTh7jDUrV-",
    "outputId": "0572a60d-f855-49e3-fdf4-19f0e9df368a"
   },
   "outputs": [
    {
     "data": {
      "text/html": [
       "<div>\n",
       "<style scoped>\n",
       "    .dataframe tbody tr th:only-of-type {\n",
       "        vertical-align: middle;\n",
       "    }\n",
       "\n",
       "    .dataframe tbody tr th {\n",
       "        vertical-align: top;\n",
       "    }\n",
       "\n",
       "    .dataframe thead th {\n",
       "        text-align: right;\n",
       "    }\n",
       "</style>\n",
       "<table border=\"1\" class=\"dataframe\">\n",
       "  <thead>\n",
       "    <tr style=\"text-align: right;\">\n",
       "      <th></th>\n",
       "      <th>Id</th>\n",
       "      <th>FirstName</th>\n",
       "      <th>Age</th>\n",
       "      <th>Email</th>\n",
       "      <th>Join_Date</th>\n",
       "      <th>Salary</th>\n",
       "      <th>Department</th>\n",
       "    </tr>\n",
       "  </thead>\n",
       "  <tbody>\n",
       "    <tr>\n",
       "      <th>8</th>\n",
       "      <td>12cc2f16-d641-402e-b22b-3332bafc4f1d</td>\n",
       "      <td>NaN</td>\n",
       "      <td>71.0</td>\n",
       "      <td>andrew74@hotmail.com</td>\n",
       "      <td>2022-02-12</td>\n",
       "      <td>83354.0</td>\n",
       "      <td>Sales</td>\n",
       "    </tr>\n",
       "    <tr>\n",
       "      <th>15</th>\n",
       "      <td>0074dbd5-10d0-463f-9b10-d8473bea04ba</td>\n",
       "      <td>NaN</td>\n",
       "      <td>22.0</td>\n",
       "      <td>ericjohnson@castillo-mendez.net</td>\n",
       "      <td>2023-03-01</td>\n",
       "      <td>NaN</td>\n",
       "      <td>HR</td>\n",
       "    </tr>\n",
       "    <tr>\n",
       "      <th>34</th>\n",
       "      <td>ace748f5-03e6-4187-8a02-c81906eb9667</td>\n",
       "      <td>NaN</td>\n",
       "      <td>18.0</td>\n",
       "      <td>jeremyarmstrong@hotmail.com</td>\n",
       "      <td>NaN</td>\n",
       "      <td>35900.0</td>\n",
       "      <td>Engineering</td>\n",
       "    </tr>\n",
       "    <tr>\n",
       "      <th>93</th>\n",
       "      <td>7e42205f-ddff-4db1-adb4-b7dba3e24027</td>\n",
       "      <td>NaN</td>\n",
       "      <td>28.0</td>\n",
       "      <td>qsimpson@cherry-russell.com</td>\n",
       "      <td>2021-11-27</td>\n",
       "      <td>106847.0</td>\n",
       "      <td>Marketing</td>\n",
       "    </tr>\n",
       "    <tr>\n",
       "      <th>104</th>\n",
       "      <td>28e57f7d-5d14-4d7c-bcdf-af7b8425ed23</td>\n",
       "      <td>NaN</td>\n",
       "      <td>77.0</td>\n",
       "      <td>charlesbenitez@yahoo.com</td>\n",
       "      <td>2023-06-01</td>\n",
       "      <td>75704.0</td>\n",
       "      <td>NaN</td>\n",
       "    </tr>\n",
       "    <tr>\n",
       "      <th>...</th>\n",
       "      <td>...</td>\n",
       "      <td>...</td>\n",
       "      <td>...</td>\n",
       "      <td>...</td>\n",
       "      <td>...</td>\n",
       "      <td>...</td>\n",
       "      <td>...</td>\n",
       "    </tr>\n",
       "    <tr>\n",
       "      <th>10937</th>\n",
       "      <td>02a58875-55cf-4c6e-ba4a-82dc4beddb7d</td>\n",
       "      <td>NaN</td>\n",
       "      <td>53.0</td>\n",
       "      <td>blakebarbara@ortega.org</td>\n",
       "      <td>2020-06-16</td>\n",
       "      <td>NaN</td>\n",
       "      <td>Marketing</td>\n",
       "    </tr>\n",
       "    <tr>\n",
       "      <th>10959</th>\n",
       "      <td>8f52972e-142a-404f-b4ff-ee3b4dff9330</td>\n",
       "      <td>NaN</td>\n",
       "      <td>27.0</td>\n",
       "      <td>dawn14@hotmail.com</td>\n",
       "      <td>07/10/1985</td>\n",
       "      <td>136555.0</td>\n",
       "      <td>NaN</td>\n",
       "    </tr>\n",
       "    <tr>\n",
       "      <th>10960</th>\n",
       "      <td>876838a5-0311-4c32-810b-d34c52685756</td>\n",
       "      <td>NaN</td>\n",
       "      <td>22.0</td>\n",
       "      <td>alisongoodwin@yahoo.com</td>\n",
       "      <td>2021-03-22</td>\n",
       "      <td>129748.0</td>\n",
       "      <td>Marketing</td>\n",
       "    </tr>\n",
       "    <tr>\n",
       "      <th>10983</th>\n",
       "      <td>eea8dacc-5c7f-488a-b37e-448cc29799d5</td>\n",
       "      <td>NaN</td>\n",
       "      <td>55.0</td>\n",
       "      <td>ealexander@yahoo.com</td>\n",
       "      <td>2020-09-11</td>\n",
       "      <td>106142.0</td>\n",
       "      <td>Marketing</td>\n",
       "    </tr>\n",
       "    <tr>\n",
       "      <th>10992</th>\n",
       "      <td>749e71e0-f852-4749-bae3-b59b9c5a9e77</td>\n",
       "      <td>NaN</td>\n",
       "      <td>31.0</td>\n",
       "      <td>kingcharles@hotmail.com</td>\n",
       "      <td>2020-11-28</td>\n",
       "      <td>88530.0</td>\n",
       "      <td>Marketing</td>\n",
       "    </tr>\n",
       "  </tbody>\n",
       "</table>\n",
       "<p>775 rows × 7 columns</p>\n",
       "</div>"
      ],
      "text/plain": [
       "                                         Id FirstName   Age  \\\n",
       "8      12cc2f16-d641-402e-b22b-3332bafc4f1d       NaN  71.0   \n",
       "15     0074dbd5-10d0-463f-9b10-d8473bea04ba       NaN  22.0   \n",
       "34     ace748f5-03e6-4187-8a02-c81906eb9667       NaN  18.0   \n",
       "93     7e42205f-ddff-4db1-adb4-b7dba3e24027       NaN  28.0   \n",
       "104    28e57f7d-5d14-4d7c-bcdf-af7b8425ed23       NaN  77.0   \n",
       "...                                     ...       ...   ...   \n",
       "10937  02a58875-55cf-4c6e-ba4a-82dc4beddb7d       NaN  53.0   \n",
       "10959  8f52972e-142a-404f-b4ff-ee3b4dff9330       NaN  27.0   \n",
       "10960  876838a5-0311-4c32-810b-d34c52685756       NaN  22.0   \n",
       "10983  eea8dacc-5c7f-488a-b37e-448cc29799d5       NaN  55.0   \n",
       "10992  749e71e0-f852-4749-bae3-b59b9c5a9e77       NaN  31.0   \n",
       "\n",
       "                                 Email   Join_Date    Salary   Department  \n",
       "8                 andrew74@hotmail.com  2022-02-12   83354.0        Sales  \n",
       "15     ericjohnson@castillo-mendez.net  2023-03-01       NaN           HR  \n",
       "34         jeremyarmstrong@hotmail.com         NaN   35900.0  Engineering  \n",
       "93         qsimpson@cherry-russell.com  2021-11-27  106847.0    Marketing  \n",
       "104           charlesbenitez@yahoo.com  2023-06-01   75704.0          NaN  \n",
       "...                                ...         ...       ...          ...  \n",
       "10937          blakebarbara@ortega.org  2020-06-16       NaN    Marketing  \n",
       "10959               dawn14@hotmail.com  07/10/1985  136555.0          NaN  \n",
       "10960          alisongoodwin@yahoo.com  2021-03-22  129748.0    Marketing  \n",
       "10983             ealexander@yahoo.com  2020-09-11  106142.0    Marketing  \n",
       "10992          kingcharles@hotmail.com  2020-11-28   88530.0    Marketing  \n",
       "\n",
       "[775 rows x 7 columns]"
      ]
     },
     "execution_count": 25,
     "metadata": {},
     "output_type": "execute_result"
    }
   ],
   "source": [
    "# Checking the rows that have Nan values in FirstName\n",
    "df_=df[df['FirstName'].isna()]\n",
    "df_"
   ]
  },
  {
   "cell_type": "code",
   "execution_count": 26,
   "metadata": {
    "colab": {
     "base_uri": "https://localhost:8080/",
     "height": 597
    },
    "id": "rT4SO8IGRj0x",
    "outputId": "973ee24d-a54f-4d88-d5e0-4146e056c8b1"
   },
   "outputs": [
    {
     "data": {
      "text/html": [
       "<div>\n",
       "<style scoped>\n",
       "    .dataframe tbody tr th:only-of-type {\n",
       "        vertical-align: middle;\n",
       "    }\n",
       "\n",
       "    .dataframe tbody tr th {\n",
       "        vertical-align: top;\n",
       "    }\n",
       "\n",
       "    .dataframe thead th {\n",
       "        text-align: right;\n",
       "    }\n",
       "</style>\n",
       "<table border=\"1\" class=\"dataframe\">\n",
       "  <thead>\n",
       "    <tr style=\"text-align: right;\">\n",
       "      <th></th>\n",
       "      <th>Id</th>\n",
       "      <th>FirstName</th>\n",
       "      <th>Age</th>\n",
       "      <th>Email</th>\n",
       "      <th>Join_Date</th>\n",
       "      <th>Salary</th>\n",
       "      <th>Department</th>\n",
       "    </tr>\n",
       "  </thead>\n",
       "  <tbody>\n",
       "    <tr>\n",
       "      <th>0</th>\n",
       "      <td>1e407ff9-6255-489d-a0de-34135d4f74bd</td>\n",
       "      <td>Hunter</td>\n",
       "      <td>25.0</td>\n",
       "      <td>xlopez@hotmail.com</td>\n",
       "      <td>NaN</td>\n",
       "      <td>88552.000000</td>\n",
       "      <td>Sales</td>\n",
       "    </tr>\n",
       "    <tr>\n",
       "      <th>4</th>\n",
       "      <td>14ed3e6a-e0f5-4bbe-8d93-8665267f5c90</td>\n",
       "      <td>Julia</td>\n",
       "      <td>71.0</td>\n",
       "      <td>figueroakayla@yahoo.com</td>\n",
       "      <td>NaN</td>\n",
       "      <td>143456.000000</td>\n",
       "      <td>Marketing</td>\n",
       "    </tr>\n",
       "    <tr>\n",
       "      <th>5</th>\n",
       "      <td>f92ea13f-24d3-4792-91e4-5b0e07d90c2c</td>\n",
       "      <td>Lisa</td>\n",
       "      <td>81.0</td>\n",
       "      <td>milleryvonne@fowler-york.com</td>\n",
       "      <td>15/10/2016</td>\n",
       "      <td>123018.000000</td>\n",
       "      <td>SupportE</td>\n",
       "    </tr>\n",
       "    <tr>\n",
       "      <th>8</th>\n",
       "      <td>12cc2f16-d641-402e-b22b-3332bafc4f1d</td>\n",
       "      <td>Unknown</td>\n",
       "      <td>71.0</td>\n",
       "      <td>andrew74@hotmail.com</td>\n",
       "      <td>2022-02-12</td>\n",
       "      <td>83354.000000</td>\n",
       "      <td>Sales</td>\n",
       "    </tr>\n",
       "    <tr>\n",
       "      <th>9</th>\n",
       "      <td>d06f507d-62e5-4bd6-a252-4e60e109d324</td>\n",
       "      <td>Jay</td>\n",
       "      <td>44.0</td>\n",
       "      <td>denisemaynard@jordan.com</td>\n",
       "      <td>2022-12-08</td>\n",
       "      <td>37701.725993</td>\n",
       "      <td>HR</td>\n",
       "    </tr>\n",
       "    <tr>\n",
       "      <th>...</th>\n",
       "      <td>...</td>\n",
       "      <td>...</td>\n",
       "      <td>...</td>\n",
       "      <td>...</td>\n",
       "      <td>...</td>\n",
       "      <td>...</td>\n",
       "      <td>...</td>\n",
       "    </tr>\n",
       "    <tr>\n",
       "      <th>10991</th>\n",
       "      <td>612011e6-101d-4ee2-bbca-16a5056d8217</td>\n",
       "      <td>Jeffrey</td>\n",
       "      <td>72.0</td>\n",
       "      <td>jpatterson@wise.org</td>\n",
       "      <td>2021-08-05</td>\n",
       "      <td>50510.777098</td>\n",
       "      <td>Support</td>\n",
       "    </tr>\n",
       "    <tr>\n",
       "      <th>10992</th>\n",
       "      <td>749e71e0-f852-4749-bae3-b59b9c5a9e77</td>\n",
       "      <td>Unknown</td>\n",
       "      <td>31.0</td>\n",
       "      <td>kingcharles@hotmail.com</td>\n",
       "      <td>2020-11-28</td>\n",
       "      <td>88530.000000</td>\n",
       "      <td>Marketing</td>\n",
       "    </tr>\n",
       "    <tr>\n",
       "      <th>10994</th>\n",
       "      <td>6714ff24-3600-4c6e-8eed-5b4224bd9e44</td>\n",
       "      <td>Karen</td>\n",
       "      <td>29.0</td>\n",
       "      <td>cheryllewis@hotmail.com</td>\n",
       "      <td>NaN</td>\n",
       "      <td>147555.000000</td>\n",
       "      <td>Engineering</td>\n",
       "    </tr>\n",
       "    <tr>\n",
       "      <th>10997</th>\n",
       "      <td>ed19c966-d6d8-4047-b410-b6e595a39340</td>\n",
       "      <td>Stephanie</td>\n",
       "      <td>NaN</td>\n",
       "      <td>robert96@pollard-frye.com</td>\n",
       "      <td>15/08/2006</td>\n",
       "      <td>122609.594149</td>\n",
       "      <td>HR</td>\n",
       "    </tr>\n",
       "    <tr>\n",
       "      <th>10998</th>\n",
       "      <td>783b36b4-d09f-46c9-8a52-7ff96b80863e</td>\n",
       "      <td>Bonnie</td>\n",
       "      <td>37.0</td>\n",
       "      <td>roypark@warren.net</td>\n",
       "      <td>2020-10-09</td>\n",
       "      <td>147322.005171</td>\n",
       "      <td>Support</td>\n",
       "    </tr>\n",
       "  </tbody>\n",
       "</table>\n",
       "<p>7207 rows × 7 columns</p>\n",
       "</div>"
      ],
      "text/plain": [
       "                                         Id  FirstName   Age  \\\n",
       "0      1e407ff9-6255-489d-a0de-34135d4f74bd     Hunter  25.0   \n",
       "4      14ed3e6a-e0f5-4bbe-8d93-8665267f5c90      Julia  71.0   \n",
       "5      f92ea13f-24d3-4792-91e4-5b0e07d90c2c       Lisa  81.0   \n",
       "8      12cc2f16-d641-402e-b22b-3332bafc4f1d    Unknown  71.0   \n",
       "9      d06f507d-62e5-4bd6-a252-4e60e109d324        Jay  44.0   \n",
       "...                                     ...        ...   ...   \n",
       "10991  612011e6-101d-4ee2-bbca-16a5056d8217    Jeffrey  72.0   \n",
       "10992  749e71e0-f852-4749-bae3-b59b9c5a9e77    Unknown  31.0   \n",
       "10994  6714ff24-3600-4c6e-8eed-5b4224bd9e44      Karen  29.0   \n",
       "10997  ed19c966-d6d8-4047-b410-b6e595a39340  Stephanie   NaN   \n",
       "10998  783b36b4-d09f-46c9-8a52-7ff96b80863e     Bonnie  37.0   \n",
       "\n",
       "                              Email   Join_Date         Salary   Department  \n",
       "0                xlopez@hotmail.com         NaN   88552.000000        Sales  \n",
       "4           figueroakayla@yahoo.com         NaN  143456.000000    Marketing  \n",
       "5      milleryvonne@fowler-york.com  15/10/2016  123018.000000     SupportE  \n",
       "8              andrew74@hotmail.com  2022-02-12   83354.000000        Sales  \n",
       "9          denisemaynard@jordan.com  2022-12-08   37701.725993           HR  \n",
       "...                             ...         ...            ...          ...  \n",
       "10991           jpatterson@wise.org  2021-08-05   50510.777098      Support  \n",
       "10992       kingcharles@hotmail.com  2020-11-28   88530.000000    Marketing  \n",
       "10994       cheryllewis@hotmail.com         NaN  147555.000000  Engineering  \n",
       "10997     robert96@pollard-frye.com  15/08/2006  122609.594149           HR  \n",
       "10998            roypark@warren.net  2020-10-09  147322.005171      Support  \n",
       "\n",
       "[7207 rows x 7 columns]"
      ]
     },
     "execution_count": 26,
     "metadata": {},
     "output_type": "execute_result"
    }
   ],
   "source": [
    "#Imputing Nan values in FirstName with Unknown,rather than dropping the rows because it may leads to loss of valuable information\n",
    "df['FirstName']=df['FirstName'].fillna('Unknown')\n",
    "df"
   ]
  },
  {
   "cell_type": "markdown",
   "metadata": {
    "id": "67Zg654ujY1y"
   },
   "source": [
    "**Standardising Date Formats:**\n",
    "\n",
    "\n",
    "\n",
    "\n"
   ]
  },
  {
   "cell_type": "code",
   "execution_count": 27,
   "metadata": {
    "colab": {
     "base_uri": "https://localhost:8080/"
    },
    "id": "_6bvePUTjsTw",
    "outputId": "cd1d2b9e-d444-4c20-f66c-20de2c036797"
   },
   "outputs": [
    {
     "data": {
      "text/plain": [
       "680"
      ]
     },
     "execution_count": 27,
     "metadata": {},
     "output_type": "execute_result"
    }
   ],
   "source": [
    "df['Join_Date'].isna().sum()"
   ]
  },
  {
   "cell_type": "code",
   "execution_count": 28,
   "metadata": {
    "colab": {
     "base_uri": "https://localhost:8080/",
     "height": 597
    },
    "id": "otnjARIQLE32",
    "outputId": "9c633be6-d69c-4949-8cd7-4df1005c43d0"
   },
   "outputs": [
    {
     "data": {
      "text/html": [
       "<div>\n",
       "<style scoped>\n",
       "    .dataframe tbody tr th:only-of-type {\n",
       "        vertical-align: middle;\n",
       "    }\n",
       "\n",
       "    .dataframe tbody tr th {\n",
       "        vertical-align: top;\n",
       "    }\n",
       "\n",
       "    .dataframe thead th {\n",
       "        text-align: right;\n",
       "    }\n",
       "</style>\n",
       "<table border=\"1\" class=\"dataframe\">\n",
       "  <thead>\n",
       "    <tr style=\"text-align: right;\">\n",
       "      <th></th>\n",
       "      <th>Id</th>\n",
       "      <th>FirstName</th>\n",
       "      <th>Age</th>\n",
       "      <th>Email</th>\n",
       "      <th>Join_Date</th>\n",
       "      <th>Salary</th>\n",
       "      <th>Department</th>\n",
       "    </tr>\n",
       "  </thead>\n",
       "  <tbody>\n",
       "    <tr>\n",
       "      <th>0</th>\n",
       "      <td>1e407ff9-6255-489d-a0de-34135d4f74bd</td>\n",
       "      <td>Hunter</td>\n",
       "      <td>25.0</td>\n",
       "      <td>xlopez@hotmail.com</td>\n",
       "      <td>NaN</td>\n",
       "      <td>88552.000000</td>\n",
       "      <td>Sales</td>\n",
       "    </tr>\n",
       "    <tr>\n",
       "      <th>4</th>\n",
       "      <td>14ed3e6a-e0f5-4bbe-8d93-8665267f5c90</td>\n",
       "      <td>Julia</td>\n",
       "      <td>71.0</td>\n",
       "      <td>figueroakayla@yahoo.com</td>\n",
       "      <td>NaN</td>\n",
       "      <td>143456.000000</td>\n",
       "      <td>Marketing</td>\n",
       "    </tr>\n",
       "    <tr>\n",
       "      <th>5</th>\n",
       "      <td>f92ea13f-24d3-4792-91e4-5b0e07d90c2c</td>\n",
       "      <td>Lisa</td>\n",
       "      <td>81.0</td>\n",
       "      <td>milleryvonne@fowler-york.com</td>\n",
       "      <td>2016-10-15</td>\n",
       "      <td>123018.000000</td>\n",
       "      <td>SupportE</td>\n",
       "    </tr>\n",
       "    <tr>\n",
       "      <th>8</th>\n",
       "      <td>12cc2f16-d641-402e-b22b-3332bafc4f1d</td>\n",
       "      <td>Unknown</td>\n",
       "      <td>71.0</td>\n",
       "      <td>andrew74@hotmail.com</td>\n",
       "      <td>2022-12-02</td>\n",
       "      <td>83354.000000</td>\n",
       "      <td>Sales</td>\n",
       "    </tr>\n",
       "    <tr>\n",
       "      <th>9</th>\n",
       "      <td>d06f507d-62e5-4bd6-a252-4e60e109d324</td>\n",
       "      <td>Jay</td>\n",
       "      <td>44.0</td>\n",
       "      <td>denisemaynard@jordan.com</td>\n",
       "      <td>2022-08-12</td>\n",
       "      <td>37701.725993</td>\n",
       "      <td>HR</td>\n",
       "    </tr>\n",
       "    <tr>\n",
       "      <th>...</th>\n",
       "      <td>...</td>\n",
       "      <td>...</td>\n",
       "      <td>...</td>\n",
       "      <td>...</td>\n",
       "      <td>...</td>\n",
       "      <td>...</td>\n",
       "      <td>...</td>\n",
       "    </tr>\n",
       "    <tr>\n",
       "      <th>10991</th>\n",
       "      <td>612011e6-101d-4ee2-bbca-16a5056d8217</td>\n",
       "      <td>Jeffrey</td>\n",
       "      <td>72.0</td>\n",
       "      <td>jpatterson@wise.org</td>\n",
       "      <td>2021-05-08</td>\n",
       "      <td>50510.777098</td>\n",
       "      <td>Support</td>\n",
       "    </tr>\n",
       "    <tr>\n",
       "      <th>10992</th>\n",
       "      <td>749e71e0-f852-4749-bae3-b59b9c5a9e77</td>\n",
       "      <td>Unknown</td>\n",
       "      <td>31.0</td>\n",
       "      <td>kingcharles@hotmail.com</td>\n",
       "      <td>2020-11-28</td>\n",
       "      <td>88530.000000</td>\n",
       "      <td>Marketing</td>\n",
       "    </tr>\n",
       "    <tr>\n",
       "      <th>10994</th>\n",
       "      <td>6714ff24-3600-4c6e-8eed-5b4224bd9e44</td>\n",
       "      <td>Karen</td>\n",
       "      <td>29.0</td>\n",
       "      <td>cheryllewis@hotmail.com</td>\n",
       "      <td>NaN</td>\n",
       "      <td>147555.000000</td>\n",
       "      <td>Engineering</td>\n",
       "    </tr>\n",
       "    <tr>\n",
       "      <th>10997</th>\n",
       "      <td>ed19c966-d6d8-4047-b410-b6e595a39340</td>\n",
       "      <td>Stephanie</td>\n",
       "      <td>NaN</td>\n",
       "      <td>robert96@pollard-frye.com</td>\n",
       "      <td>2006-08-15</td>\n",
       "      <td>122609.594149</td>\n",
       "      <td>HR</td>\n",
       "    </tr>\n",
       "    <tr>\n",
       "      <th>10998</th>\n",
       "      <td>783b36b4-d09f-46c9-8a52-7ff96b80863e</td>\n",
       "      <td>Bonnie</td>\n",
       "      <td>37.0</td>\n",
       "      <td>roypark@warren.net</td>\n",
       "      <td>2020-09-10</td>\n",
       "      <td>147322.005171</td>\n",
       "      <td>Support</td>\n",
       "    </tr>\n",
       "  </tbody>\n",
       "</table>\n",
       "<p>7207 rows × 7 columns</p>\n",
       "</div>"
      ],
      "text/plain": [
       "                                         Id  FirstName   Age  \\\n",
       "0      1e407ff9-6255-489d-a0de-34135d4f74bd     Hunter  25.0   \n",
       "4      14ed3e6a-e0f5-4bbe-8d93-8665267f5c90      Julia  71.0   \n",
       "5      f92ea13f-24d3-4792-91e4-5b0e07d90c2c       Lisa  81.0   \n",
       "8      12cc2f16-d641-402e-b22b-3332bafc4f1d    Unknown  71.0   \n",
       "9      d06f507d-62e5-4bd6-a252-4e60e109d324        Jay  44.0   \n",
       "...                                     ...        ...   ...   \n",
       "10991  612011e6-101d-4ee2-bbca-16a5056d8217    Jeffrey  72.0   \n",
       "10992  749e71e0-f852-4749-bae3-b59b9c5a9e77    Unknown  31.0   \n",
       "10994  6714ff24-3600-4c6e-8eed-5b4224bd9e44      Karen  29.0   \n",
       "10997  ed19c966-d6d8-4047-b410-b6e595a39340  Stephanie   NaN   \n",
       "10998  783b36b4-d09f-46c9-8a52-7ff96b80863e     Bonnie  37.0   \n",
       "\n",
       "                              Email   Join_Date         Salary   Department  \n",
       "0                xlopez@hotmail.com         NaN   88552.000000        Sales  \n",
       "4           figueroakayla@yahoo.com         NaN  143456.000000    Marketing  \n",
       "5      milleryvonne@fowler-york.com  2016-10-15  123018.000000     SupportE  \n",
       "8              andrew74@hotmail.com  2022-12-02   83354.000000        Sales  \n",
       "9          denisemaynard@jordan.com  2022-08-12   37701.725993           HR  \n",
       "...                             ...         ...            ...          ...  \n",
       "10991           jpatterson@wise.org  2021-05-08   50510.777098      Support  \n",
       "10992       kingcharles@hotmail.com  2020-11-28   88530.000000    Marketing  \n",
       "10994       cheryllewis@hotmail.com         NaN  147555.000000  Engineering  \n",
       "10997     robert96@pollard-frye.com  2006-08-15  122609.594149           HR  \n",
       "10998            roypark@warren.net  2020-09-10  147322.005171      Support  \n",
       "\n",
       "[7207 rows x 7 columns]"
      ]
     },
     "execution_count": 28,
     "metadata": {},
     "output_type": "execute_result"
    }
   ],
   "source": [
    "import numpy as np\n",
    "# Function to convert date strings to YYYY-MM-DD format\n",
    "def convert_to_yyyy_mm_dd(date_str):\n",
    "    try:\n",
    "        return pd.to_datetime(date_str, dayfirst=True).strftime('%Y-%m-%d')\n",
    "    except:\n",
    "        return np.nan  # Return NaN for any invalid dates\n",
    "\n",
    "# Apply conversion to 'Join Date' column\n",
    "df['Join_Date'] = df['Join_Date'].apply(convert_to_yyyy_mm_dd)\n",
    "\n",
    "df\n"
   ]
  },
  {
   "cell_type": "code",
   "execution_count": 29,
   "metadata": {
    "colab": {
     "base_uri": "https://localhost:8080/"
    },
    "id": "k3D9Y4zymxRK",
    "outputId": "33883e1c-d259-4b88-fb7b-f879f3267dad"
   },
   "outputs": [
    {
     "data": {
      "text/plain": [
       "680"
      ]
     },
     "execution_count": 29,
     "metadata": {},
     "output_type": "execute_result"
    }
   ],
   "source": [
    "#Checking Nan values in Join_Date\n",
    "df['Join_Date'].isna().sum()"
   ]
  },
  {
   "cell_type": "code",
   "execution_count": 30,
   "metadata": {
    "id": "jGF_I9jVm300"
   },
   "outputs": [],
   "source": [
    "#Dropping rows that have Nan values in Join_Date\n",
    "df=df.dropna(subset=['Join_Date'])"
   ]
  },
  {
   "cell_type": "code",
   "execution_count": 31,
   "metadata": {
    "colab": {
     "base_uri": "https://localhost:8080/",
     "height": 597
    },
    "id": "CCMjciKqnEXk",
    "outputId": "0662a54b-a750-48de-e09c-796aa5655286"
   },
   "outputs": [
    {
     "data": {
      "text/html": [
       "<div>\n",
       "<style scoped>\n",
       "    .dataframe tbody tr th:only-of-type {\n",
       "        vertical-align: middle;\n",
       "    }\n",
       "\n",
       "    .dataframe tbody tr th {\n",
       "        vertical-align: top;\n",
       "    }\n",
       "\n",
       "    .dataframe thead th {\n",
       "        text-align: right;\n",
       "    }\n",
       "</style>\n",
       "<table border=\"1\" class=\"dataframe\">\n",
       "  <thead>\n",
       "    <tr style=\"text-align: right;\">\n",
       "      <th></th>\n",
       "      <th>Id</th>\n",
       "      <th>FirstName</th>\n",
       "      <th>Age</th>\n",
       "      <th>Email</th>\n",
       "      <th>Join_Date</th>\n",
       "      <th>Salary</th>\n",
       "      <th>Department</th>\n",
       "    </tr>\n",
       "  </thead>\n",
       "  <tbody>\n",
       "    <tr>\n",
       "      <th>5</th>\n",
       "      <td>f92ea13f-24d3-4792-91e4-5b0e07d90c2c</td>\n",
       "      <td>Lisa</td>\n",
       "      <td>81.0</td>\n",
       "      <td>milleryvonne@fowler-york.com</td>\n",
       "      <td>2016-10-15</td>\n",
       "      <td>123018.000000</td>\n",
       "      <td>SupportE</td>\n",
       "    </tr>\n",
       "    <tr>\n",
       "      <th>8</th>\n",
       "      <td>12cc2f16-d641-402e-b22b-3332bafc4f1d</td>\n",
       "      <td>Unknown</td>\n",
       "      <td>71.0</td>\n",
       "      <td>andrew74@hotmail.com</td>\n",
       "      <td>2022-12-02</td>\n",
       "      <td>83354.000000</td>\n",
       "      <td>Sales</td>\n",
       "    </tr>\n",
       "    <tr>\n",
       "      <th>9</th>\n",
       "      <td>d06f507d-62e5-4bd6-a252-4e60e109d324</td>\n",
       "      <td>Jay</td>\n",
       "      <td>44.0</td>\n",
       "      <td>denisemaynard@jordan.com</td>\n",
       "      <td>2022-08-12</td>\n",
       "      <td>37701.725993</td>\n",
       "      <td>HR</td>\n",
       "    </tr>\n",
       "    <tr>\n",
       "      <th>12</th>\n",
       "      <td>da63d159-e9b0-4b92-b0fe-4e87df3aebc1</td>\n",
       "      <td>Amber</td>\n",
       "      <td>23.0</td>\n",
       "      <td>robert43@gmail.com</td>\n",
       "      <td>2023-08-09</td>\n",
       "      <td>112970.000000</td>\n",
       "      <td>Engineering</td>\n",
       "    </tr>\n",
       "    <tr>\n",
       "      <th>13</th>\n",
       "      <td>5ca27087-5c90-4d42-94d0-7e9ee3f422b9</td>\n",
       "      <td>Patrick</td>\n",
       "      <td>57.0</td>\n",
       "      <td>bowersjasmine@hotmail.com</td>\n",
       "      <td>2023-06-24</td>\n",
       "      <td>41511.139646</td>\n",
       "      <td>SalesA</td>\n",
       "    </tr>\n",
       "    <tr>\n",
       "      <th>...</th>\n",
       "      <td>...</td>\n",
       "      <td>...</td>\n",
       "      <td>...</td>\n",
       "      <td>...</td>\n",
       "      <td>...</td>\n",
       "      <td>...</td>\n",
       "      <td>...</td>\n",
       "    </tr>\n",
       "    <tr>\n",
       "      <th>10990</th>\n",
       "      <td>10c26512-ce3a-4387-b71a-47768503562e</td>\n",
       "      <td>Kimberly</td>\n",
       "      <td>54.0</td>\n",
       "      <td>rmccoy@hall.com</td>\n",
       "      <td>2020-11-06</td>\n",
       "      <td>60950.500220</td>\n",
       "      <td>Marketing</td>\n",
       "    </tr>\n",
       "    <tr>\n",
       "      <th>10991</th>\n",
       "      <td>612011e6-101d-4ee2-bbca-16a5056d8217</td>\n",
       "      <td>Jeffrey</td>\n",
       "      <td>72.0</td>\n",
       "      <td>jpatterson@wise.org</td>\n",
       "      <td>2021-05-08</td>\n",
       "      <td>50510.777098</td>\n",
       "      <td>Support</td>\n",
       "    </tr>\n",
       "    <tr>\n",
       "      <th>10992</th>\n",
       "      <td>749e71e0-f852-4749-bae3-b59b9c5a9e77</td>\n",
       "      <td>Unknown</td>\n",
       "      <td>31.0</td>\n",
       "      <td>kingcharles@hotmail.com</td>\n",
       "      <td>2020-11-28</td>\n",
       "      <td>88530.000000</td>\n",
       "      <td>Marketing</td>\n",
       "    </tr>\n",
       "    <tr>\n",
       "      <th>10997</th>\n",
       "      <td>ed19c966-d6d8-4047-b410-b6e595a39340</td>\n",
       "      <td>Stephanie</td>\n",
       "      <td>NaN</td>\n",
       "      <td>robert96@pollard-frye.com</td>\n",
       "      <td>2006-08-15</td>\n",
       "      <td>122609.594149</td>\n",
       "      <td>HR</td>\n",
       "    </tr>\n",
       "    <tr>\n",
       "      <th>10998</th>\n",
       "      <td>783b36b4-d09f-46c9-8a52-7ff96b80863e</td>\n",
       "      <td>Bonnie</td>\n",
       "      <td>37.0</td>\n",
       "      <td>roypark@warren.net</td>\n",
       "      <td>2020-09-10</td>\n",
       "      <td>147322.005171</td>\n",
       "      <td>Support</td>\n",
       "    </tr>\n",
       "  </tbody>\n",
       "</table>\n",
       "<p>6527 rows × 7 columns</p>\n",
       "</div>"
      ],
      "text/plain": [
       "                                         Id  FirstName   Age  \\\n",
       "5      f92ea13f-24d3-4792-91e4-5b0e07d90c2c       Lisa  81.0   \n",
       "8      12cc2f16-d641-402e-b22b-3332bafc4f1d    Unknown  71.0   \n",
       "9      d06f507d-62e5-4bd6-a252-4e60e109d324        Jay  44.0   \n",
       "12     da63d159-e9b0-4b92-b0fe-4e87df3aebc1      Amber  23.0   \n",
       "13     5ca27087-5c90-4d42-94d0-7e9ee3f422b9    Patrick  57.0   \n",
       "...                                     ...        ...   ...   \n",
       "10990  10c26512-ce3a-4387-b71a-47768503562e   Kimberly  54.0   \n",
       "10991  612011e6-101d-4ee2-bbca-16a5056d8217    Jeffrey  72.0   \n",
       "10992  749e71e0-f852-4749-bae3-b59b9c5a9e77    Unknown  31.0   \n",
       "10997  ed19c966-d6d8-4047-b410-b6e595a39340  Stephanie   NaN   \n",
       "10998  783b36b4-d09f-46c9-8a52-7ff96b80863e     Bonnie  37.0   \n",
       "\n",
       "                              Email   Join_Date         Salary   Department  \n",
       "5      milleryvonne@fowler-york.com  2016-10-15  123018.000000     SupportE  \n",
       "8              andrew74@hotmail.com  2022-12-02   83354.000000        Sales  \n",
       "9          denisemaynard@jordan.com  2022-08-12   37701.725993           HR  \n",
       "12               robert43@gmail.com  2023-08-09  112970.000000  Engineering  \n",
       "13        bowersjasmine@hotmail.com  2023-06-24   41511.139646       SalesA  \n",
       "...                             ...         ...            ...          ...  \n",
       "10990               rmccoy@hall.com  2020-11-06   60950.500220    Marketing  \n",
       "10991           jpatterson@wise.org  2021-05-08   50510.777098      Support  \n",
       "10992       kingcharles@hotmail.com  2020-11-28   88530.000000    Marketing  \n",
       "10997     robert96@pollard-frye.com  2006-08-15  122609.594149           HR  \n",
       "10998            roypark@warren.net  2020-09-10  147322.005171      Support  \n",
       "\n",
       "[6527 rows x 7 columns]"
      ]
     },
     "execution_count": 31,
     "metadata": {},
     "output_type": "execute_result"
    }
   ],
   "source": [
    "df"
   ]
  },
  {
   "cell_type": "markdown",
   "metadata": {
    "id": "9pnED3aXgbB5"
   },
   "source": [
    "**Correcting Department Names**"
   ]
  },
  {
   "cell_type": "code",
   "execution_count": 32,
   "metadata": {
    "colab": {
     "base_uri": "https://localhost:8080/"
    },
    "id": "xZIYNkH6tKtZ",
    "outputId": "3a136971-c22d-41a6-eabb-d5309d09111e"
   },
   "outputs": [
    {
     "data": {
      "text/plain": [
       "array(['SupportE', 'Sales', 'HR', 'Engineering', 'SalesA', 'Marketing',\n",
       "       'SalesX', 'Engineeringi', 'Salesw', 'SalesK', 'MarketingU', nan,\n",
       "       'Support', 'Supporty', 'Marketinge', 'MarketingR', 'Marketingv',\n",
       "       'HRv', 'SalesM', 'EngineeringL', 'MarketingQ', 'HRs', 'Supportj',\n",
       "       'Salesd', 'Marketingu', 'SalesU', 'MarketingH', 'Salesj', 'Saleso',\n",
       "       'Engineeringe', 'Marketingr', 'Engineeringm', 'SalesW',\n",
       "       'Engineeringp', 'HRF', 'SalesC', 'SupportC', 'SalesY',\n",
       "       'EngineeringK', 'Marketingz', 'SalesN', 'HRo', 'SupportB', 'HRi',\n",
       "       'Salest', 'Supportg', 'Supporta', 'HRn', 'SupportQ', 'Supportm',\n",
       "       'Supporto', 'EngineeringH', 'Marketingw', 'EngineeringM',\n",
       "       'Supportz', 'Salesy', 'MarketingD', 'HRE', 'Supportu',\n",
       "       'Marketingm', 'HRw', 'Supportk', 'MarketingN', 'SupportS',\n",
       "       'EngineeringD', 'Marketingp', 'Salesl', 'Salesr', 'SupportT',\n",
       "       'Engineeringn', 'MarketingO', 'SalesF', 'Salesz', 'Marketingt',\n",
       "       'Engineeringv', 'HRL', 'HRI', 'HRW', 'EngineeringR', 'Marketingk',\n",
       "       'Salese', 'Saless', 'Salesn', 'SalesE', 'HRy', 'SalesD', 'HRm',\n",
       "       'HRz', 'MarketingG', 'Marketingn', 'SalesI', 'Salesu',\n",
       "       'Engineeringg', 'MarketingE', 'SupportA', 'Engineeringq',\n",
       "       'EngineeringQ', 'EngineeringA', 'Supporte', 'Engineeringu',\n",
       "       'EngineeringO', 'Supportv', 'HRK', 'Engineeringb', 'SalesV', 'HRT',\n",
       "       'SupportY', 'MarketingX', 'Supportp', 'HRU', 'HRt', 'HRp', 'HRg',\n",
       "       'SalesS', 'Marketingl', 'Engineeringt', 'SalesJ', 'EngineeringX',\n",
       "       'Engineeringc', 'Marketingh', 'MarketingF', 'EngineeringC',\n",
       "       'Engineeringz', 'HRP', 'Salesv', 'Engineeringk', 'Engineeringl',\n",
       "       'SupportH', 'Supporth', 'Supportq', 'HRJ', 'Supportd', 'HRZ',\n",
       "       'SupportJ', 'MarketingZ', 'Salesc', 'EngineeringJ', 'Engineeringx',\n",
       "       'EngineeringT', 'Engineeringh', 'Supportl', 'SupportX',\n",
       "       'EngineeringG', 'SalesH', 'MarketingC', 'SupportV', 'HRq',\n",
       "       'Marketingb', 'Supporti', 'SupportL', 'Supportt', 'HRX',\n",
       "       'EngineeringE', 'EngineeringF', 'SupportP', 'HRf', 'MarketingB',\n",
       "       'Engineeringf', 'HRB', 'Marketinga', 'HRj', 'Salesi', 'SupportI',\n",
       "       'HRA', 'Marketingj', 'MarketingV', 'EngineeringZ', 'HRl', 'HRr',\n",
       "       'HRM', 'Marketingx', 'HRN', 'MarketingJ', 'Marketingi', 'Supportw',\n",
       "       'HRh', 'Engineerings', 'Supportb', 'Engineeringa', 'SalesB',\n",
       "       'SalesO', 'Marketingf', 'Marketingg', 'SupportK', 'Engineeringd',\n",
       "       'HRk', 'Marketingd', 'SalesR', 'MarketingS', 'MarketingL',\n",
       "       'MarketingT', 'HRR', 'Engineeringw', 'Salesg', 'SupportO',\n",
       "       'EngineeringV', 'HRb', 'SupportN', 'SupportG', 'Marketingc',\n",
       "       'Supportn', 'EngineeringU', 'Supportx', 'HRY', 'Salesp', 'HRH',\n",
       "       'Salesk', 'SalesL', 'Marketingq', 'SupportD', 'Supports',\n",
       "       'Supportr', 'Engineeringr', 'EngineeringW', 'Salesm', 'HRC',\n",
       "       'SupportF', 'HRe', 'EngineeringI', 'Marketingy', 'MarketingM',\n",
       "       'MarketingI', 'SupportU', 'Salesa', 'Salesf', 'MarketingY',\n",
       "       'Supportf', 'HRd', 'HRu', 'SalesZ', 'Salesh', 'Engineeringj',\n",
       "       'SupportW', 'EngineeringB', 'HRD', 'EngineeringN', 'SupportM',\n",
       "       'HRV', 'HRa', 'HRG', 'Supportc', 'MarketingK', 'HRQ',\n",
       "       'EngineeringS', 'EngineeringP', 'Engineeringy', 'HRS', 'SupportR',\n",
       "       'Salesx', 'Marketings', 'MarketingW', 'HRO', 'HRc', 'SalesT',\n",
       "       'SalesG', 'SalesQ', 'Salesq', 'Salesb', 'SalesP', 'MarketingP',\n",
       "       'Engineeringo', 'SupportZ'], dtype=object)"
      ]
     },
     "execution_count": 32,
     "metadata": {},
     "output_type": "execute_result"
    }
   ],
   "source": [
    "df['Department'].unique()"
   ]
  },
  {
   "cell_type": "code",
   "execution_count": 33,
   "metadata": {
    "colab": {
     "base_uri": "https://localhost:8080/"
    },
    "id": "kKi4PCnz_bPi",
    "outputId": "c008d4f7-1ebc-409a-afe0-252115c581c4"
   },
   "outputs": [
    {
     "data": {
      "text/plain": [
       "663"
      ]
     },
     "execution_count": 33,
     "metadata": {},
     "output_type": "execute_result"
    }
   ],
   "source": [
    "# Checking for Nan values in Department.\n",
    "\n",
    "df['Department'].isna().sum()"
   ]
  },
  {
   "cell_type": "code",
   "execution_count": 34,
   "metadata": {
    "colab": {
     "base_uri": "https://localhost:8080/"
    },
    "id": "LSBUFFes94NW",
    "outputId": "e9956cd9-3603-4937-aa23-b9294a8ab38b"
   },
   "outputs": [
    {
     "data": {
      "text/plain": [
       "array(['Support', 'Sales', 'HR', 'Engineering', 'Marketing', nan],\n",
       "      dtype=object)"
      ]
     },
     "execution_count": 34,
     "metadata": {},
     "output_type": "execute_result"
    }
   ],
   "source": [
    "\n",
    "#Standardising Department Names to ensure Consistency.\n",
    "\n",
    "# Define a regex pattern to match variations of HR,Support,Sales,Marketing,Engineering (case insensitive)\n",
    "pattern1 = r'HR[a-zA-Z]*'\n",
    "pattern2 = r'Support[a-zA-Z]*'\n",
    "pattern3 = r'Sales[a-zA-Z]*'\n",
    "pattern4 = r'Marketing[a-zA-Z]*'\n",
    "pattern5 = r'Engineering[a-zA-Z]*'\n",
    "\n",
    "# Apply regex replacement to standardize HR,Support,Sales,Marketing,Engineering  variations\n",
    "df['Department'] = df['Department'].str.replace(pattern1, 'HR', regex=True)\n",
    "df['Department'] = df['Department'].str.replace(pattern2, 'Support', regex=True)\n",
    "df['Department'] = df['Department'].str.replace(pattern3, 'Sales', regex=True)\n",
    "df['Department'] = df['Department'].str.replace(pattern4, 'Marketing', regex=True)\n",
    "df['Department'] = df['Department'].str.replace(pattern5, 'Engineering', regex=True)\n",
    "\n",
    "\n",
    "\n",
    "# Display unique values in the standardized department column\n",
    "df['Department'].unique()\n"
   ]
  },
  {
   "cell_type": "code",
   "execution_count": 35,
   "metadata": {
    "id": "7Ni7sGNEnqih"
   },
   "outputs": [],
   "source": [
    "df=df.dropna(subset=['Department'])"
   ]
  },
  {
   "cell_type": "code",
   "execution_count": 36,
   "metadata": {
    "colab": {
     "base_uri": "https://localhost:8080/"
    },
    "id": "A4HX4C2YovLG",
    "outputId": "9ab186c6-57eb-4799-e9ca-32daecfd8394"
   },
   "outputs": [
    {
     "data": {
      "text/plain": [
       "(5864, 7)"
      ]
     },
     "execution_count": 36,
     "metadata": {},
     "output_type": "execute_result"
    }
   ],
   "source": [
    "df.shape"
   ]
  },
  {
   "cell_type": "markdown",
   "metadata": {
    "id": "iHAB4BkCivbr"
   },
   "source": [
    "**Cleaning Age Column**"
   ]
  },
  {
   "cell_type": "code",
   "execution_count": 37,
   "metadata": {
    "colab": {
     "base_uri": "https://localhost:8080/"
    },
    "id": "ec7jE3SlpgDh",
    "outputId": "dc4f9dfb-f06c-456b-9a6e-a90ee02a060e"
   },
   "outputs": [
    {
     "data": {
      "text/plain": [
       "dtype('float64')"
      ]
     },
     "execution_count": 37,
     "metadata": {},
     "output_type": "execute_result"
    }
   ],
   "source": [
    "#Checking Age column Datatype\n",
    "\n",
    "df['Age'].dtype"
   ]
  },
  {
   "cell_type": "code",
   "execution_count": 38,
   "metadata": {
    "colab": {
     "base_uri": "https://localhost:8080/"
    },
    "id": "6vMqUaYm0-1c",
    "outputId": "ecf709d4-fb39-4eaa-ecdc-720dcd367334"
   },
   "outputs": [
    {
     "data": {
      "text/plain": [
       "Age\n",
       "59.0    101\n",
       "70.0     93\n",
       "79.0     91\n",
       "25.0     89\n",
       "44.0     87\n",
       "       ... \n",
       "51.0     61\n",
       "87.0     58\n",
       "48.0     57\n",
       "71.0     56\n",
       "75.0     55\n",
       "Name: count, Length: 73, dtype: int64"
      ]
     },
     "execution_count": 38,
     "metadata": {},
     "output_type": "execute_result"
    }
   ],
   "source": [
    "#Checking for values and their corresponding counts in Age column.\n",
    "\n",
    "df['Age'].value_counts()"
   ]
  },
  {
   "cell_type": "code",
   "execution_count": 39,
   "metadata": {
    "colab": {
     "base_uri": "https://localhost:8080/"
    },
    "id": "AtA_D94o5-Fo",
    "outputId": "13e87120-335c-4d41-aca9-58100c0df87c"
   },
   "outputs": [
    {
     "data": {
      "text/plain": [
       "275"
      ]
     },
     "execution_count": 39,
     "metadata": {},
     "output_type": "execute_result"
    }
   ],
   "source": [
    "#Checking for Nan values in Age\n",
    "df['Age'].isna().sum()"
   ]
  },
  {
   "cell_type": "code",
   "execution_count": 40,
   "metadata": {
    "id": "9R8suFDo6EK1"
   },
   "outputs": [],
   "source": [
    "#Imputing Age column with mean value of Age column\n",
    "mean_age=df['Age'].mean()\n",
    "df['Age']=df['Age'].fillna(mean_age)"
   ]
  },
  {
   "cell_type": "markdown",
   "metadata": {
    "id": "V6nCN6H677kJ"
   },
   "source": [
    "**Converting Age Column from float to int**"
   ]
  },
  {
   "cell_type": "code",
   "execution_count": 41,
   "metadata": {
    "colab": {
     "base_uri": "https://localhost:8080/"
    },
    "id": "X_1anSaG8ADK",
    "outputId": "e86046ac-3479-4ba0-d191-e89338a37f00"
   },
   "outputs": [
    {
     "data": {
      "text/plain": [
       "5        81\n",
       "8        71\n",
       "9        44\n",
       "12       23\n",
       "13       57\n",
       "         ..\n",
       "10990    54\n",
       "10991    72\n",
       "10992    31\n",
       "10997    53\n",
       "10998    37\n",
       "Name: Age, Length: 5864, dtype: int32"
      ]
     },
     "execution_count": 41,
     "metadata": {},
     "output_type": "execute_result"
    }
   ],
   "source": [
    "df['Age']=df['Age'].astype(int)\n",
    "df['Age']"
   ]
  },
  {
   "cell_type": "code",
   "execution_count": 42,
   "metadata": {
    "colab": {
     "base_uri": "https://localhost:8080/"
    },
    "id": "CLBTCsQxmefW",
    "outputId": "0fc23dcf-8082-4cb9-831f-b9d42aae4cc5"
   },
   "outputs": [
    {
     "data": {
      "text/plain": [
       "(5864, 7)"
      ]
     },
     "execution_count": 42,
     "metadata": {},
     "output_type": "execute_result"
    }
   ],
   "source": [
    "df.shape"
   ]
  },
  {
   "cell_type": "markdown",
   "metadata": {
    "id": "kEFDBfopwKfs"
   },
   "source": [
    "**Handling Noise In Salary**"
   ]
  },
  {
   "cell_type": "code",
   "execution_count": 43,
   "metadata": {
    "colab": {
     "base_uri": "https://localhost:8080/"
    },
    "id": "aVD2gU2jwOtM",
    "outputId": "ad5f54be-d4c2-4920-a665-dc493d0584d8"
   },
   "outputs": [
    {
     "name": "stdout",
     "output_type": "stream",
     "text": [
      "count      5284.000000\n",
      "mean      90722.215640\n",
      "std       34820.799680\n",
      "min       26233.921419\n",
      "25%       60944.125165\n",
      "50%       90443.000000\n",
      "75%      120134.454363\n",
      "max      176156.206747\n",
      "Name: Salary, dtype: float64\n"
     ]
    }
   ],
   "source": [
    "#Summary Statistics of Salary column\n",
    "salary_summary = df['Salary'].describe()\n",
    "print(salary_summary)"
   ]
  },
  {
   "cell_type": "code",
   "execution_count": 44,
   "metadata": {
    "colab": {
     "base_uri": "https://localhost:8080/"
    },
    "id": "pukLGin3AgYf",
    "outputId": "bd279678-cda9-4fa2-9beb-b5206545da93"
   },
   "outputs": [
    {
     "data": {
      "text/plain": [
       "array([123018.        ,  83354.        ,  37701.7259925 , ...,\n",
       "        88530.        , 122609.59414897, 147322.00517069])"
      ]
     },
     "execution_count": 44,
     "metadata": {},
     "output_type": "execute_result"
    }
   ],
   "source": [
    "df['Salary'].unique()"
   ]
  },
  {
   "cell_type": "code",
   "execution_count": 45,
   "metadata": {
    "colab": {
     "base_uri": "https://localhost:8080/"
    },
    "id": "CnkqVyZNtXl3",
    "outputId": "94067aa4-e157-485d-cf78-32cd1efa0c01"
   },
   "outputs": [
    {
     "data": {
      "text/plain": [
       "580"
      ]
     },
     "execution_count": 45,
     "metadata": {},
     "output_type": "execute_result"
    }
   ],
   "source": [
    "df['Salary'].isna().sum()"
   ]
  },
  {
   "cell_type": "code",
   "execution_count": 46,
   "metadata": {
    "id": "STi0oRepytrO"
   },
   "outputs": [],
   "source": [
    "#Imputing Nan values with median\n",
    "df['Salary']=df['Salary'].fillna(df['Salary'].median())"
   ]
  },
  {
   "cell_type": "code",
   "execution_count": 47,
   "metadata": {
    "colab": {
     "base_uri": "https://localhost:8080/"
    },
    "id": "4lqWm7lpzi2A",
    "outputId": "24f750a0-ec34-4adc-ca02-4ee0b58a5200"
   },
   "outputs": [
    {
     "data": {
      "text/plain": [
       "0"
      ]
     },
     "execution_count": 47,
     "metadata": {},
     "output_type": "execute_result"
    }
   ],
   "source": [
    "df['Salary'].isna().sum()"
   ]
  },
  {
   "cell_type": "code",
   "execution_count": 48,
   "metadata": {
    "id": "qIhDuJVMEgKL"
   },
   "outputs": [],
   "source": [
    "#dealing noise in Salary column\n",
    "# Round the 'Salary' column to two decimal places\n",
    "df['Salary'] = df['Salary'].round(2)\n"
   ]
  },
  {
   "cell_type": "code",
   "execution_count": 49,
   "metadata": {
    "colab": {
     "base_uri": "https://localhost:8080/"
    },
    "id": "ESzKugEsopYX",
    "outputId": "a0b56ee6-2a58-430e-9988-9d79c40c7b79"
   },
   "outputs": [
    {
     "data": {
      "text/plain": [
       "Salary\n",
       "90443.00     580\n",
       "114636.00      3\n",
       "40296.00       3\n",
       "110190.00      3\n",
       "115132.00      2\n",
       "            ... \n",
       "79888.57       1\n",
       "54810.00       1\n",
       "51968.47       1\n",
       "96471.91       1\n",
       "147322.01      1\n",
       "Name: count, Length: 5076, dtype: int64"
      ]
     },
     "execution_count": 49,
     "metadata": {},
     "output_type": "execute_result"
    }
   ],
   "source": [
    "df['Salary'].value_counts()"
   ]
  },
  {
   "cell_type": "code",
   "execution_count": 50,
   "metadata": {
    "colab": {
     "base_uri": "https://localhost:8080/",
     "height": 597
    },
    "id": "FYoNWZM6El9Z",
    "outputId": "dc96ff0a-af62-4b0f-f56d-3fde2ee9dde6"
   },
   "outputs": [
    {
     "data": {
      "text/html": [
       "<div>\n",
       "<style scoped>\n",
       "    .dataframe tbody tr th:only-of-type {\n",
       "        vertical-align: middle;\n",
       "    }\n",
       "\n",
       "    .dataframe tbody tr th {\n",
       "        vertical-align: top;\n",
       "    }\n",
       "\n",
       "    .dataframe thead th {\n",
       "        text-align: right;\n",
       "    }\n",
       "</style>\n",
       "<table border=\"1\" class=\"dataframe\">\n",
       "  <thead>\n",
       "    <tr style=\"text-align: right;\">\n",
       "      <th></th>\n",
       "      <th>Id</th>\n",
       "      <th>FirstName</th>\n",
       "      <th>Age</th>\n",
       "      <th>Email</th>\n",
       "      <th>Join_Date</th>\n",
       "      <th>Salary</th>\n",
       "      <th>Department</th>\n",
       "    </tr>\n",
       "  </thead>\n",
       "  <tbody>\n",
       "    <tr>\n",
       "      <th>5</th>\n",
       "      <td>f92ea13f-24d3-4792-91e4-5b0e07d90c2c</td>\n",
       "      <td>Lisa</td>\n",
       "      <td>81</td>\n",
       "      <td>milleryvonne@fowler-york.com</td>\n",
       "      <td>2016-10-15</td>\n",
       "      <td>123018.00</td>\n",
       "      <td>Support</td>\n",
       "    </tr>\n",
       "    <tr>\n",
       "      <th>8</th>\n",
       "      <td>12cc2f16-d641-402e-b22b-3332bafc4f1d</td>\n",
       "      <td>Unknown</td>\n",
       "      <td>71</td>\n",
       "      <td>andrew74@hotmail.com</td>\n",
       "      <td>2022-12-02</td>\n",
       "      <td>83354.00</td>\n",
       "      <td>Sales</td>\n",
       "    </tr>\n",
       "    <tr>\n",
       "      <th>9</th>\n",
       "      <td>d06f507d-62e5-4bd6-a252-4e60e109d324</td>\n",
       "      <td>Jay</td>\n",
       "      <td>44</td>\n",
       "      <td>denisemaynard@jordan.com</td>\n",
       "      <td>2022-08-12</td>\n",
       "      <td>37701.73</td>\n",
       "      <td>HR</td>\n",
       "    </tr>\n",
       "    <tr>\n",
       "      <th>12</th>\n",
       "      <td>da63d159-e9b0-4b92-b0fe-4e87df3aebc1</td>\n",
       "      <td>Amber</td>\n",
       "      <td>23</td>\n",
       "      <td>robert43@gmail.com</td>\n",
       "      <td>2023-08-09</td>\n",
       "      <td>112970.00</td>\n",
       "      <td>Engineering</td>\n",
       "    </tr>\n",
       "    <tr>\n",
       "      <th>13</th>\n",
       "      <td>5ca27087-5c90-4d42-94d0-7e9ee3f422b9</td>\n",
       "      <td>Patrick</td>\n",
       "      <td>57</td>\n",
       "      <td>bowersjasmine@hotmail.com</td>\n",
       "      <td>2023-06-24</td>\n",
       "      <td>41511.14</td>\n",
       "      <td>Sales</td>\n",
       "    </tr>\n",
       "    <tr>\n",
       "      <th>...</th>\n",
       "      <td>...</td>\n",
       "      <td>...</td>\n",
       "      <td>...</td>\n",
       "      <td>...</td>\n",
       "      <td>...</td>\n",
       "      <td>...</td>\n",
       "      <td>...</td>\n",
       "    </tr>\n",
       "    <tr>\n",
       "      <th>10990</th>\n",
       "      <td>10c26512-ce3a-4387-b71a-47768503562e</td>\n",
       "      <td>Kimberly</td>\n",
       "      <td>54</td>\n",
       "      <td>rmccoy@hall.com</td>\n",
       "      <td>2020-11-06</td>\n",
       "      <td>60950.50</td>\n",
       "      <td>Marketing</td>\n",
       "    </tr>\n",
       "    <tr>\n",
       "      <th>10991</th>\n",
       "      <td>612011e6-101d-4ee2-bbca-16a5056d8217</td>\n",
       "      <td>Jeffrey</td>\n",
       "      <td>72</td>\n",
       "      <td>jpatterson@wise.org</td>\n",
       "      <td>2021-05-08</td>\n",
       "      <td>50510.78</td>\n",
       "      <td>Support</td>\n",
       "    </tr>\n",
       "    <tr>\n",
       "      <th>10992</th>\n",
       "      <td>749e71e0-f852-4749-bae3-b59b9c5a9e77</td>\n",
       "      <td>Unknown</td>\n",
       "      <td>31</td>\n",
       "      <td>kingcharles@hotmail.com</td>\n",
       "      <td>2020-11-28</td>\n",
       "      <td>88530.00</td>\n",
       "      <td>Marketing</td>\n",
       "    </tr>\n",
       "    <tr>\n",
       "      <th>10997</th>\n",
       "      <td>ed19c966-d6d8-4047-b410-b6e595a39340</td>\n",
       "      <td>Stephanie</td>\n",
       "      <td>53</td>\n",
       "      <td>robert96@pollard-frye.com</td>\n",
       "      <td>2006-08-15</td>\n",
       "      <td>122609.59</td>\n",
       "      <td>HR</td>\n",
       "    </tr>\n",
       "    <tr>\n",
       "      <th>10998</th>\n",
       "      <td>783b36b4-d09f-46c9-8a52-7ff96b80863e</td>\n",
       "      <td>Bonnie</td>\n",
       "      <td>37</td>\n",
       "      <td>roypark@warren.net</td>\n",
       "      <td>2020-09-10</td>\n",
       "      <td>147322.01</td>\n",
       "      <td>Support</td>\n",
       "    </tr>\n",
       "  </tbody>\n",
       "</table>\n",
       "<p>5864 rows × 7 columns</p>\n",
       "</div>"
      ],
      "text/plain": [
       "                                         Id  FirstName  Age  \\\n",
       "5      f92ea13f-24d3-4792-91e4-5b0e07d90c2c       Lisa   81   \n",
       "8      12cc2f16-d641-402e-b22b-3332bafc4f1d    Unknown   71   \n",
       "9      d06f507d-62e5-4bd6-a252-4e60e109d324        Jay   44   \n",
       "12     da63d159-e9b0-4b92-b0fe-4e87df3aebc1      Amber   23   \n",
       "13     5ca27087-5c90-4d42-94d0-7e9ee3f422b9    Patrick   57   \n",
       "...                                     ...        ...  ...   \n",
       "10990  10c26512-ce3a-4387-b71a-47768503562e   Kimberly   54   \n",
       "10991  612011e6-101d-4ee2-bbca-16a5056d8217    Jeffrey   72   \n",
       "10992  749e71e0-f852-4749-bae3-b59b9c5a9e77    Unknown   31   \n",
       "10997  ed19c966-d6d8-4047-b410-b6e595a39340  Stephanie   53   \n",
       "10998  783b36b4-d09f-46c9-8a52-7ff96b80863e     Bonnie   37   \n",
       "\n",
       "                              Email   Join_Date     Salary   Department  \n",
       "5      milleryvonne@fowler-york.com  2016-10-15  123018.00      Support  \n",
       "8              andrew74@hotmail.com  2022-12-02   83354.00        Sales  \n",
       "9          denisemaynard@jordan.com  2022-08-12   37701.73           HR  \n",
       "12               robert43@gmail.com  2023-08-09  112970.00  Engineering  \n",
       "13        bowersjasmine@hotmail.com  2023-06-24   41511.14        Sales  \n",
       "...                             ...         ...        ...          ...  \n",
       "10990               rmccoy@hall.com  2020-11-06   60950.50    Marketing  \n",
       "10991           jpatterson@wise.org  2021-05-08   50510.78      Support  \n",
       "10992       kingcharles@hotmail.com  2020-11-28   88530.00    Marketing  \n",
       "10997     robert96@pollard-frye.com  2006-08-15  122609.59           HR  \n",
       "10998            roypark@warren.net  2020-09-10  147322.01      Support  \n",
       "\n",
       "[5864 rows x 7 columns]"
      ]
     },
     "execution_count": 50,
     "metadata": {},
     "output_type": "execute_result"
    }
   ],
   "source": [
    "df"
   ]
  },
  {
   "cell_type": "code",
   "execution_count": 51,
   "metadata": {
    "colab": {
     "base_uri": "https://localhost:8080/"
    },
    "id": "2U2ZxTNOE39R",
    "outputId": "199a434a-79e3-462f-ac39-4135bcf61a3d"
   },
   "outputs": [
    {
     "name": "stdout",
     "output_type": "stream",
     "text": [
      "Outliers in Salary column:\n",
      "[]\n"
     ]
    }
   ],
   "source": [
    "#checking for outliers\n",
    "Q1 = df['Salary'].quantile(0.25)\n",
    "Q3 = df['Salary'].quantile(0.75)\n",
    "\n",
    "# Calculate IQR (Interquartile Range)\n",
    "IQR = Q3 - Q1\n",
    "\n",
    "# Define the lower and upper bounds for outliers\n",
    "lower_bound = Q1 - 1.5 * IQR\n",
    "upper_bound = Q3 + 1.5 * IQR\n",
    "\n",
    "# Find outliers based on the bounds\n",
    "outliers = df[(df['Salary'] < lower_bound) | (df['Salary'] > upper_bound)]\n",
    "# Print outliers in a list format\n",
    "print(\"Outliers in Salary column:\")\n",
    "print(outliers['Salary'].tolist())"
   ]
  },
  {
   "cell_type": "markdown",
   "metadata": {
    "id": "trj-gWykpwXL"
   },
   "source": [
    "Insights:\n",
    "\n",
    "Couldnot find any potential outliers."
   ]
  },
  {
   "cell_type": "code",
   "execution_count": 52,
   "metadata": {
    "colab": {
     "base_uri": "https://localhost:8080/",
     "height": 564
    },
    "id": "sMyTK_sVstd7",
    "outputId": "692930da-27ed-459c-eb84-b19267f21b8e"
   },
   "outputs": [
    {
     "data": {
      "image/png": "[encoded data removed]",
      "text/plain": [
       "<Figure size 1000x600 with 1 Axes>"
      ]
     },
     "metadata": {},
     "output_type": "display_data"
    }
   ],
   "source": [
    "import seaborn as sns\n",
    "import matplotlib.pyplot as plt\n",
    "\n",
    "# Plot the histogram with KDE\n",
    "plt.figure(figsize=(10, 6))\n",
    "sns.histplot(df['Salary'], kde=True, bins=30)\n",
    "plt.title('Salary Distribution with KDE')\n",
    "plt.xlabel('Salary')\n",
    "plt.ylabel('Frequency')\n",
    "plt.show()\n"
   ]
  },
  {
   "cell_type": "markdown",
   "metadata": {
    "id": "ENLoT_Ajthth"
   },
   "source": [
    "Insights:\n",
    "\n",
    "1)The histogram with KDE plot for the Salary column shows the distribution of salary values, confirming the absence of significant outliers and highlighting the overall shape of the data.\n",
    "\n",
    "2)The distribution appears to be fairly symmetrical and continuous, without any extreme outliers.\n",
    "\n",
    "3)Most salaries are concentrated around the mean value (approximately 90,000)."
   ]
  },
  {
   "cell_type": "markdown",
   "metadata": {
    "id": "gfebc2G4lkmX"
   },
   "source": [
    "**Removing Duplicate Id**"
   ]
  },
  {
   "cell_type": "code",
   "execution_count": 53,
   "metadata": {
    "colab": {
     "base_uri": "https://localhost:8080/",
     "height": 458
    },
    "id": "NQc7zXGFXzUl",
    "outputId": "924ff9de-48c8-43ef-9835-e057c113abf4"
   },
   "outputs": [
    {
     "data": {
      "text/html": [
       "<div>\n",
       "<style scoped>\n",
       "    .dataframe tbody tr th:only-of-type {\n",
       "        vertical-align: middle;\n",
       "    }\n",
       "\n",
       "    .dataframe tbody tr th {\n",
       "        vertical-align: top;\n",
       "    }\n",
       "\n",
       "    .dataframe thead th {\n",
       "        text-align: right;\n",
       "    }\n",
       "</style>\n",
       "<table border=\"1\" class=\"dataframe\">\n",
       "  <thead>\n",
       "    <tr style=\"text-align: right;\">\n",
       "      <th></th>\n",
       "      <th>Id</th>\n",
       "      <th>FirstName</th>\n",
       "      <th>Age</th>\n",
       "      <th>Email</th>\n",
       "      <th>Join_Date</th>\n",
       "      <th>Salary</th>\n",
       "      <th>Department</th>\n",
       "    </tr>\n",
       "  </thead>\n",
       "  <tbody>\n",
       "    <tr>\n",
       "      <th>4626</th>\n",
       "      <td>0008fab3-6dd9-4c36-8ea1-183d8dbd9228</td>\n",
       "      <td>Kevin</td>\n",
       "      <td>61</td>\n",
       "      <td>nancyortega@gmail.com</td>\n",
       "      <td>2021-10-19</td>\n",
       "      <td>139842.00</td>\n",
       "      <td>Engineering</td>\n",
       "    </tr>\n",
       "    <tr>\n",
       "      <th>1355</th>\n",
       "      <td>000ea181-5552-4a36-b151-1d57483b5a31</td>\n",
       "      <td>Natalie</td>\n",
       "      <td>27</td>\n",
       "      <td>aliciawright@yahoo.com</td>\n",
       "      <td>2021-05-22</td>\n",
       "      <td>56616.00</td>\n",
       "      <td>Support</td>\n",
       "    </tr>\n",
       "    <tr>\n",
       "      <th>8242</th>\n",
       "      <td>000ebe72-241a-4c74-9bd5-f0b1c0195760</td>\n",
       "      <td>Felicia</td>\n",
       "      <td>74</td>\n",
       "      <td>mlewis@hotmail.com</td>\n",
       "      <td>1983-09-06</td>\n",
       "      <td>62610.00</td>\n",
       "      <td>HR</td>\n",
       "    </tr>\n",
       "    <tr>\n",
       "      <th>3419</th>\n",
       "      <td>002a244f-c467-4bec-9ab9-0eea2d1e3626</td>\n",
       "      <td>Travis</td>\n",
       "      <td>84</td>\n",
       "      <td>gmedina@wilson-scott.com</td>\n",
       "      <td>2020-02-17</td>\n",
       "      <td>49203.00</td>\n",
       "      <td>HR</td>\n",
       "    </tr>\n",
       "    <tr>\n",
       "      <th>6991</th>\n",
       "      <td>003cece6-e9cb-4236-a180-1b88ed6572d4</td>\n",
       "      <td>Unknown</td>\n",
       "      <td>34</td>\n",
       "      <td>sbryant@scott.info</td>\n",
       "      <td>2022-10-11</td>\n",
       "      <td>33037.19</td>\n",
       "      <td>Sales</td>\n",
       "    </tr>\n",
       "    <tr>\n",
       "      <th>...</th>\n",
       "      <td>...</td>\n",
       "      <td>...</td>\n",
       "      <td>...</td>\n",
       "      <td>...</td>\n",
       "      <td>...</td>\n",
       "      <td>...</td>\n",
       "      <td>...</td>\n",
       "    </tr>\n",
       "    <tr>\n",
       "      <th>9559</th>\n",
       "      <td>ffdb63e3-a09b-4df3-b45a-701ad95e9e60</td>\n",
       "      <td>Kristi</td>\n",
       "      <td>57</td>\n",
       "      <td>usmith@gmail.com</td>\n",
       "      <td>2021-12-01</td>\n",
       "      <td>130590.52</td>\n",
       "      <td>Sales</td>\n",
       "    </tr>\n",
       "    <tr>\n",
       "      <th>6579</th>\n",
       "      <td>ffe06285-05de-4899-aecc-c41c35546fc5</td>\n",
       "      <td>Victoria</td>\n",
       "      <td>28</td>\n",
       "      <td>cassandra78@hotmail.com</td>\n",
       "      <td>2022-02-09</td>\n",
       "      <td>95228.00</td>\n",
       "      <td>Support</td>\n",
       "    </tr>\n",
       "    <tr>\n",
       "      <th>6045</th>\n",
       "      <td>ffec6404-7edf-463d-8a61-909b38e9c185</td>\n",
       "      <td>Gina</td>\n",
       "      <td>86</td>\n",
       "      <td>joseph11@williams.com</td>\n",
       "      <td>2024-01-03</td>\n",
       "      <td>51202.00</td>\n",
       "      <td>Sales</td>\n",
       "    </tr>\n",
       "    <tr>\n",
       "      <th>1784</th>\n",
       "      <td>fff55723-981a-4646-b95c-1f33543e97d6</td>\n",
       "      <td>Jessica</td>\n",
       "      <td>48</td>\n",
       "      <td>hpope@gmail.com</td>\n",
       "      <td>2021-02-16</td>\n",
       "      <td>90443.00</td>\n",
       "      <td>Marketing</td>\n",
       "    </tr>\n",
       "    <tr>\n",
       "      <th>7292</th>\n",
       "      <td>ffffcb54-aed9-49fb-9bb7-7a72f335b1d5</td>\n",
       "      <td>Thomas</td>\n",
       "      <td>66</td>\n",
       "      <td>sgill@harris-murillo.info</td>\n",
       "      <td>2012-02-25</td>\n",
       "      <td>58630.00</td>\n",
       "      <td>Support</td>\n",
       "    </tr>\n",
       "  </tbody>\n",
       "</table>\n",
       "<p>5566 rows × 7 columns</p>\n",
       "</div>"
      ],
      "text/plain": [
       "                                        Id FirstName  Age  \\\n",
       "4626  0008fab3-6dd9-4c36-8ea1-183d8dbd9228     Kevin   61   \n",
       "1355  000ea181-5552-4a36-b151-1d57483b5a31   Natalie   27   \n",
       "8242  000ebe72-241a-4c74-9bd5-f0b1c0195760   Felicia   74   \n",
       "3419  002a244f-c467-4bec-9ab9-0eea2d1e3626    Travis   84   \n",
       "6991  003cece6-e9cb-4236-a180-1b88ed6572d4   Unknown   34   \n",
       "...                                    ...       ...  ...   \n",
       "9559  ffdb63e3-a09b-4df3-b45a-701ad95e9e60    Kristi   57   \n",
       "6579  ffe06285-05de-4899-aecc-c41c35546fc5  Victoria   28   \n",
       "6045  ffec6404-7edf-463d-8a61-909b38e9c185      Gina   86   \n",
       "1784  fff55723-981a-4646-b95c-1f33543e97d6   Jessica   48   \n",
       "7292  ffffcb54-aed9-49fb-9bb7-7a72f335b1d5    Thomas   66   \n",
       "\n",
       "                          Email   Join_Date     Salary   Department  \n",
       "4626      nancyortega@gmail.com  2021-10-19  139842.00  Engineering  \n",
       "1355     aliciawright@yahoo.com  2021-05-22   56616.00      Support  \n",
       "8242         mlewis@hotmail.com  1983-09-06   62610.00           HR  \n",
       "3419   gmedina@wilson-scott.com  2020-02-17   49203.00           HR  \n",
       "6991         sbryant@scott.info  2022-10-11   33037.19        Sales  \n",
       "...                         ...         ...        ...          ...  \n",
       "9559           usmith@gmail.com  2021-12-01  130590.52        Sales  \n",
       "6579    cassandra78@hotmail.com  2022-02-09   95228.00      Support  \n",
       "6045      joseph11@williams.com  2024-01-03   51202.00        Sales  \n",
       "1784            hpope@gmail.com  2021-02-16   90443.00    Marketing  \n",
       "7292  sgill@harris-murillo.info  2012-02-25   58630.00      Support  \n",
       "\n",
       "[5566 rows x 7 columns]"
      ]
     },
     "execution_count": 53,
     "metadata": {},
     "output_type": "execute_result"
    }
   ],
   "source": [
    "# Sort by ID and Date in descending order\n",
    "df = df.sort_values(by=['Id', 'Join_Date'], ascending=[True, False])\n",
    "\n",
    "# Drop duplicates keeping the latest date for each ID\n",
    "df_latest = df.drop_duplicates(subset='Id', keep='first')\n",
    "\n",
    "df_latest"
   ]
  },
  {
   "cell_type": "code",
   "execution_count": 54,
   "metadata": {
    "id": "pGKSZ7FcvlTH"
   },
   "outputs": [],
   "source": [
    "#Converting dataframe to a csv file\n",
    "df_latest.to_csv('cleaned_dataset.csv',index=False)"
   ]
  },
  {
   "cell_type": "code",
   "execution_count": 55,
   "metadata": {
    "colab": {
     "base_uri": "https://localhost:8080/",
     "height": 175
    },
    "id": "h9mjSoBAHfWc",
    "outputId": "e174524d-feae-4e9f-9e20-f2393a0332a2"
   },
   "outputs": [
    {
     "data": {
      "text/html": [
       "<div>\n",
       "<style scoped>\n",
       "    .dataframe tbody tr th:only-of-type {\n",
       "        vertical-align: middle;\n",
       "    }\n",
       "\n",
       "    .dataframe tbody tr th {\n",
       "        vertical-align: top;\n",
       "    }\n",
       "\n",
       "    .dataframe thead th {\n",
       "        text-align: right;\n",
       "    }\n",
       "</style>\n",
       "<table border=\"1\" class=\"dataframe\">\n",
       "  <thead>\n",
       "    <tr style=\"text-align: right;\">\n",
       "      <th></th>\n",
       "      <th>Id</th>\n",
       "      <th>FirstName</th>\n",
       "      <th>Email</th>\n",
       "      <th>Join_Date</th>\n",
       "      <th>Department</th>\n",
       "    </tr>\n",
       "  </thead>\n",
       "  <tbody>\n",
       "    <tr>\n",
       "      <th>count</th>\n",
       "      <td>5566</td>\n",
       "      <td>5566</td>\n",
       "      <td>5566</td>\n",
       "      <td>5566</td>\n",
       "      <td>5566</td>\n",
       "    </tr>\n",
       "    <tr>\n",
       "      <th>unique</th>\n",
       "      <td>5566</td>\n",
       "      <td>617</td>\n",
       "      <td>5546</td>\n",
       "      <td>2522</td>\n",
       "      <td>5</td>\n",
       "    </tr>\n",
       "    <tr>\n",
       "      <th>top</th>\n",
       "      <td>0008fab3-6dd9-4c36-8ea1-183d8dbd9228</td>\n",
       "      <td>Unknown</td>\n",
       "      <td>michael27@gmail.com</td>\n",
       "      <td>2022-05-11</td>\n",
       "      <td>Marketing</td>\n",
       "    </tr>\n",
       "    <tr>\n",
       "      <th>freq</th>\n",
       "      <td>1</td>\n",
       "      <td>605</td>\n",
       "      <td>2</td>\n",
       "      <td>9</td>\n",
       "      <td>1142</td>\n",
       "    </tr>\n",
       "  </tbody>\n",
       "</table>\n",
       "</div>"
      ],
      "text/plain": [
       "                                          Id FirstName                Email  \\\n",
       "count                                   5566      5566                 5566   \n",
       "unique                                  5566       617                 5546   \n",
       "top     0008fab3-6dd9-4c36-8ea1-183d8dbd9228   Unknown  michael27@gmail.com   \n",
       "freq                                       1       605                    2   \n",
       "\n",
       "         Join_Date Department  \n",
       "count         5566       5566  \n",
       "unique        2522          5  \n",
       "top     2022-05-11  Marketing  \n",
       "freq             9       1142  "
      ]
     },
     "execution_count": 55,
     "metadata": {},
     "output_type": "execute_result"
    }
   ],
   "source": [
    "df_latest.describe(include='object')"
   ]
  },
  {
   "cell_type": "markdown",
   "metadata": {
    "id": "qfHdjfZDSa6O"
   },
   "source": [
    "**Conclusions:**\n",
    "\n",
    "1)**Email Validation and Correction:**\n",
    "\n",
    "   i) Validated and corrected email formats in the Email column.\n",
    "\n",
    "  ii) Dropped rows with NaN values in the Email column.\n",
    "\n",
    "2)**First Name Extraction:**\n",
    "\n",
    "  i) Extracted FirstName from the Name column, discarding noisy last name data.\n",
    "\n",
    "  ii)Imputed NaN values in FirstName with \"Unknown\".\n",
    "\n",
    "3)**Join_Date Standardization:**\n",
    "\n",
    " i) Standardized dates in the Join_Date column to a uniform format.\n",
    "\n",
    " ii) Dropped rows with NaN values in the Join_Date column.\n",
    "\n",
    "4)**Department Name Standardization:**\n",
    "\n",
    " i) Standardized department names to ensure consistency.\n",
    "\n",
    " ii)Dropped rows with NaN values in the Department column.\n",
    "\n",
    "5)**Age Column Imputation and Conversion:**\n",
    "\n",
    " i) Imputed NaN values in the Age column with the mean age.\n",
    "\n",
    " ii) Converted the data type of the Age column to integer.\n",
    "\n",
    "6)**Salary Column Noise Handling:**\n",
    "\n",
    "\n",
    "  i) Handled noise in the Salary column.\n",
    "\n",
    " ii) Imputed NaN values in the Salary column with the median salary.\n",
    "\n",
    " iii)Rounded Salary values to two decimal places for consistency.\n",
    "\n",
    "**7)Removed duplicate IDs by filtering based on the latest joining dates.**\n",
    "\n",
    "\n",
    "These steps ensured data quality and consistency across the DataFrame.\n",
    "\n"
   ]
  }
 ],
 "metadata": {
  "colab": {
   "provenance": []
  },
  "kernelspec": {
   "display_name": "Python 3 (ipykernel)",
   "language": "python",
   "name": "python3"
  },
  "language_info": {
   "codemirror_mode": {
    "name": "ipython",
    "version": 3
   },
   "file_extension": ".py",
   "mimetype": "text/x-python",
   "name": "python",
   "nbconvert_exporter": "python",
   "pygments_lexer": "ipython3",
   "version": "3.11.3"
  },
  "widgets": {
   "application/vnd.jupyter.widget-state+json": {
    "state": {},
    "version_major": 2,
    "version_minor": 0
   }
  }
 },
 "nbformat": 4,
 "nbformat_minor": 4
}
